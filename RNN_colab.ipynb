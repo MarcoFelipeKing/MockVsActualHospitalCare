{
  "nbformat": 4,
  "nbformat_minor": 0,
  "metadata": {
    "colab": {
      "provenance": [],
      "authorship_tag": "ABX9TyNPJYzqkR9SyXhZZIVfy2XC",
      "include_colab_link": true
    },
    "kernelspec": {
      "name": "python3",
      "display_name": "Python 3"
    },
    "language_info": {
      "name": "python"
    }
  },
  "cells": [
    {
      "cell_type": "markdown",
      "metadata": {
        "id": "view-in-github",
        "colab_type": "text"
      },
      "source": [
        "<a href=\"https://colab.research.google.com/github/MarcoFelipeKing/MockVsActualHospitalCare/blob/main/RNN_colab.ipynb\" target=\"_parent\"><img src=\"https://colab.research.google.com/assets/colab-badge.svg\" alt=\"Open In Colab\"/></a>"
      ]
    },
    {
      "cell_type": "code",
      "source": [
        "tf.__version__"
      ],
      "metadata": {
        "colab": {
          "base_uri": "https://localhost:8080/",
          "height": 35
        },
        "id": "DTHW_MnRErQN",
        "outputId": "60aecf41-9118-4711-8416-2641c9007b2b"
      },
      "execution_count": null,
      "outputs": [
        {
          "output_type": "execute_result",
          "data": {
            "text/plain": [
              "'2.12.0'"
            ],
            "application/vnd.google.colaboratory.intrinsic+json": {
              "type": "string"
            }
          },
          "metadata": {},
          "execution_count": 5
        }
      ]
    },
    {
      "cell_type": "code",
      "execution_count": null,
      "metadata": {
        "id": "EhRUetpEBFo2"
      },
      "outputs": [],
      "source": [
        "import tensorflow as tf\n",
        "from keras.models import Sequential\n",
        "from keras.layers import SimpleRNN, Dense\n",
        "from tensorflow.keras.preprocessing.sequence import pad_sequences\n",
        "from sklearn.preprocessing import LabelEncoder\n",
        "from keras.utils import np_utils\n",
        "import numpy as np\n",
        "import pandas as pd"
      ]
    },
    {
      "cell_type": "code",
      "source": [
        "# read in the data using pandas ~/Users/marcofking/Documents/GitHub/MockVsActualHospitalCare/MockVsActual_GithubDOI.csv\n",
        "\n",
        "df = pd.read_csv('MockVsActual_GithubDOI.csv')\n",
        "df.head()"
      ],
      "metadata": {
        "colab": {
          "base_uri": "https://localhost:8080/",
          "height": 204
        },
        "id": "53bcBpW5FDiI",
        "outputId": "b98c9723-3f8a-44de-f7c5-a246cce45a16"
      },
      "execution_count": null,
      "outputs": [
        {
          "output_type": "execute_result",
          "data": {
            "text/plain": [
              "   ActivityID CareType HCWType RoomType     Surface        Date  \\\n",
              "0           1       IV      RN       SB  AlcOutside  08/03/2019   \n",
              "1           1       IV      RN       SB          In  08/03/2019   \n",
              "2           1       IV      RN       SB        Door  08/03/2019   \n",
              "3           1       IV      RN       SB        Door  08/03/2019   \n",
              "4           1       IV      RN       SB       Other  08/03/2019   \n",
              "\n",
              "               Time     Dev.Date.Time  type  \n",
              "0  27/07/2020 11:08  08/03/2019 11:08  Mock  \n",
              "1  27/07/2020 11:08  08/03/2019 11:08  Mock  \n",
              "2  27/07/2020 11:08  08/03/2019 11:08  Mock  \n",
              "3  27/07/2020 11:08  08/03/2019 11:08  Mock  \n",
              "4  27/07/2020 11:08  08/03/2019 11:08  Mock  "
            ],
            "text/html": [
              "\n",
              "\n",
              "  <div id=\"df-4758c7ba-162f-4e4b-ad25-02af157f6e0f\">\n",
              "    <div class=\"colab-df-container\">\n",
              "      <div>\n",
              "<style scoped>\n",
              "    .dataframe tbody tr th:only-of-type {\n",
              "        vertical-align: middle;\n",
              "    }\n",
              "\n",
              "    .dataframe tbody tr th {\n",
              "        vertical-align: top;\n",
              "    }\n",
              "\n",
              "    .dataframe thead th {\n",
              "        text-align: right;\n",
              "    }\n",
              "</style>\n",
              "<table border=\"1\" class=\"dataframe\">\n",
              "  <thead>\n",
              "    <tr style=\"text-align: right;\">\n",
              "      <th></th>\n",
              "      <th>ActivityID</th>\n",
              "      <th>CareType</th>\n",
              "      <th>HCWType</th>\n",
              "      <th>RoomType</th>\n",
              "      <th>Surface</th>\n",
              "      <th>Date</th>\n",
              "      <th>Time</th>\n",
              "      <th>Dev.Date.Time</th>\n",
              "      <th>type</th>\n",
              "    </tr>\n",
              "  </thead>\n",
              "  <tbody>\n",
              "    <tr>\n",
              "      <th>0</th>\n",
              "      <td>1</td>\n",
              "      <td>IV</td>\n",
              "      <td>RN</td>\n",
              "      <td>SB</td>\n",
              "      <td>AlcOutside</td>\n",
              "      <td>08/03/2019</td>\n",
              "      <td>27/07/2020 11:08</td>\n",
              "      <td>08/03/2019 11:08</td>\n",
              "      <td>Mock</td>\n",
              "    </tr>\n",
              "    <tr>\n",
              "      <th>1</th>\n",
              "      <td>1</td>\n",
              "      <td>IV</td>\n",
              "      <td>RN</td>\n",
              "      <td>SB</td>\n",
              "      <td>In</td>\n",
              "      <td>08/03/2019</td>\n",
              "      <td>27/07/2020 11:08</td>\n",
              "      <td>08/03/2019 11:08</td>\n",
              "      <td>Mock</td>\n",
              "    </tr>\n",
              "    <tr>\n",
              "      <th>2</th>\n",
              "      <td>1</td>\n",
              "      <td>IV</td>\n",
              "      <td>RN</td>\n",
              "      <td>SB</td>\n",
              "      <td>Door</td>\n",
              "      <td>08/03/2019</td>\n",
              "      <td>27/07/2020 11:08</td>\n",
              "      <td>08/03/2019 11:08</td>\n",
              "      <td>Mock</td>\n",
              "    </tr>\n",
              "    <tr>\n",
              "      <th>3</th>\n",
              "      <td>1</td>\n",
              "      <td>IV</td>\n",
              "      <td>RN</td>\n",
              "      <td>SB</td>\n",
              "      <td>Door</td>\n",
              "      <td>08/03/2019</td>\n",
              "      <td>27/07/2020 11:08</td>\n",
              "      <td>08/03/2019 11:08</td>\n",
              "      <td>Mock</td>\n",
              "    </tr>\n",
              "    <tr>\n",
              "      <th>4</th>\n",
              "      <td>1</td>\n",
              "      <td>IV</td>\n",
              "      <td>RN</td>\n",
              "      <td>SB</td>\n",
              "      <td>Other</td>\n",
              "      <td>08/03/2019</td>\n",
              "      <td>27/07/2020 11:08</td>\n",
              "      <td>08/03/2019 11:08</td>\n",
              "      <td>Mock</td>\n",
              "    </tr>\n",
              "  </tbody>\n",
              "</table>\n",
              "</div>\n",
              "      <button class=\"colab-df-convert\" onclick=\"convertToInteractive('df-4758c7ba-162f-4e4b-ad25-02af157f6e0f')\"\n",
              "              title=\"Convert this dataframe to an interactive table.\"\n",
              "              style=\"display:none;\">\n",
              "\n",
              "  <svg xmlns=\"http://www.w3.org/2000/svg\" height=\"24px\"viewBox=\"0 0 24 24\"\n",
              "       width=\"24px\">\n",
              "    <path d=\"M0 0h24v24H0V0z\" fill=\"none\"/>\n",
              "    <path d=\"M18.56 5.44l.94 2.06.94-2.06 2.06-.94-2.06-.94-.94-2.06-.94 2.06-2.06.94zm-11 1L8.5 8.5l.94-2.06 2.06-.94-2.06-.94L8.5 2.5l-.94 2.06-2.06.94zm10 10l.94 2.06.94-2.06 2.06-.94-2.06-.94-.94-2.06-.94 2.06-2.06.94z\"/><path d=\"M17.41 7.96l-1.37-1.37c-.4-.4-.92-.59-1.43-.59-.52 0-1.04.2-1.43.59L10.3 9.45l-7.72 7.72c-.78.78-.78 2.05 0 2.83L4 21.41c.39.39.9.59 1.41.59.51 0 1.02-.2 1.41-.59l7.78-7.78 2.81-2.81c.8-.78.8-2.07 0-2.86zM5.41 20L4 18.59l7.72-7.72 1.47 1.35L5.41 20z\"/>\n",
              "  </svg>\n",
              "      </button>\n",
              "\n",
              "\n",
              "\n",
              "    <div id=\"df-8662d704-031e-4ce4-a1a6-72c3823a3318\">\n",
              "      <button class=\"colab-df-quickchart\" onclick=\"quickchart('df-8662d704-031e-4ce4-a1a6-72c3823a3318')\"\n",
              "              title=\"Suggest charts.\"\n",
              "              style=\"display:none;\">\n",
              "\n",
              "<svg xmlns=\"http://www.w3.org/2000/svg\" height=\"24px\"viewBox=\"0 0 24 24\"\n",
              "     width=\"24px\">\n",
              "    <g>\n",
              "        <path d=\"M19 3H5c-1.1 0-2 .9-2 2v14c0 1.1.9 2 2 2h14c1.1 0 2-.9 2-2V5c0-1.1-.9-2-2-2zM9 17H7v-7h2v7zm4 0h-2V7h2v10zm4 0h-2v-4h2v4z\"/>\n",
              "    </g>\n",
              "</svg>\n",
              "      </button>\n",
              "    </div>\n",
              "\n",
              "<style>\n",
              "  .colab-df-quickchart {\n",
              "    background-color: #E8F0FE;\n",
              "    border: none;\n",
              "    border-radius: 50%;\n",
              "    cursor: pointer;\n",
              "    display: none;\n",
              "    fill: #1967D2;\n",
              "    height: 32px;\n",
              "    padding: 0 0 0 0;\n",
              "    width: 32px;\n",
              "  }\n",
              "\n",
              "  .colab-df-quickchart:hover {\n",
              "    background-color: #E2EBFA;\n",
              "    box-shadow: 0px 1px 2px rgba(60, 64, 67, 0.3), 0px 1px 3px 1px rgba(60, 64, 67, 0.15);\n",
              "    fill: #174EA6;\n",
              "  }\n",
              "\n",
              "  [theme=dark] .colab-df-quickchart {\n",
              "    background-color: #3B4455;\n",
              "    fill: #D2E3FC;\n",
              "  }\n",
              "\n",
              "  [theme=dark] .colab-df-quickchart:hover {\n",
              "    background-color: #434B5C;\n",
              "    box-shadow: 0px 1px 3px 1px rgba(0, 0, 0, 0.15);\n",
              "    filter: drop-shadow(0px 1px 2px rgba(0, 0, 0, 0.3));\n",
              "    fill: #FFFFFF;\n",
              "  }\n",
              "</style>\n",
              "\n",
              "    <script>\n",
              "      async function quickchart(key) {\n",
              "        const containerElement = document.querySelector('#' + key);\n",
              "        const charts = await google.colab.kernel.invokeFunction(\n",
              "            'suggestCharts', [key], {});\n",
              "      }\n",
              "    </script>\n",
              "\n",
              "      <script>\n",
              "\n",
              "function displayQuickchartButton(domScope) {\n",
              "  let quickchartButtonEl =\n",
              "    domScope.querySelector('#df-8662d704-031e-4ce4-a1a6-72c3823a3318 button.colab-df-quickchart');\n",
              "  quickchartButtonEl.style.display =\n",
              "    google.colab.kernel.accessAllowed ? 'block' : 'none';\n",
              "}\n",
              "\n",
              "        displayQuickchartButton(document);\n",
              "      </script>\n",
              "      <style>\n",
              "    .colab-df-container {\n",
              "      display:flex;\n",
              "      flex-wrap:wrap;\n",
              "      gap: 12px;\n",
              "    }\n",
              "\n",
              "    .colab-df-convert {\n",
              "      background-color: #E8F0FE;\n",
              "      border: none;\n",
              "      border-radius: 50%;\n",
              "      cursor: pointer;\n",
              "      display: none;\n",
              "      fill: #1967D2;\n",
              "      height: 32px;\n",
              "      padding: 0 0 0 0;\n",
              "      width: 32px;\n",
              "    }\n",
              "\n",
              "    .colab-df-convert:hover {\n",
              "      background-color: #E2EBFA;\n",
              "      box-shadow: 0px 1px 2px rgba(60, 64, 67, 0.3), 0px 1px 3px 1px rgba(60, 64, 67, 0.15);\n",
              "      fill: #174EA6;\n",
              "    }\n",
              "\n",
              "    [theme=dark] .colab-df-convert {\n",
              "      background-color: #3B4455;\n",
              "      fill: #D2E3FC;\n",
              "    }\n",
              "\n",
              "    [theme=dark] .colab-df-convert:hover {\n",
              "      background-color: #434B5C;\n",
              "      box-shadow: 0px 1px 3px 1px rgba(0, 0, 0, 0.15);\n",
              "      filter: drop-shadow(0px 1px 2px rgba(0, 0, 0, 0.3));\n",
              "      fill: #FFFFFF;\n",
              "    }\n",
              "  </style>\n",
              "\n",
              "      <script>\n",
              "        const buttonEl =\n",
              "          document.querySelector('#df-4758c7ba-162f-4e4b-ad25-02af157f6e0f button.colab-df-convert');\n",
              "        buttonEl.style.display =\n",
              "          google.colab.kernel.accessAllowed ? 'block' : 'none';\n",
              "\n",
              "        async function convertToInteractive(key) {\n",
              "          const element = document.querySelector('#df-4758c7ba-162f-4e4b-ad25-02af157f6e0f');\n",
              "          const dataTable =\n",
              "            await google.colab.kernel.invokeFunction('convertToInteractive',\n",
              "                                                     [key], {});\n",
              "          if (!dataTable) return;\n",
              "\n",
              "          const docLinkHtml = 'Like what you see? Visit the ' +\n",
              "            '<a target=\"_blank\" href=https://colab.research.google.com/notebooks/data_table.ipynb>data table notebook</a>'\n",
              "            + ' to learn more about interactive tables.';\n",
              "          element.innerHTML = '';\n",
              "          dataTable['output_type'] = 'display_data';\n",
              "          await google.colab.output.renderOutput(dataTable, element);\n",
              "          const docLink = document.createElement('div');\n",
              "          docLink.innerHTML = docLinkHtml;\n",
              "          element.appendChild(docLink);\n",
              "        }\n",
              "      </script>\n",
              "    </div>\n",
              "  </div>\n"
            ]
          },
          "metadata": {},
          "execution_count": 17
        }
      ]
    },
    {
      "cell_type": "code",
      "source": [
        "# Group by 'ActivityID', 'CareType', 'type' and extract the sequences\n",
        "sequences = df.sort_values(['Dev.Date.Time']).groupby(['ActivityID', 'CareType', 'type'])['Surface'].apply(list)\n",
        "\n",
        "# Add start and end tokens to each sequence\n",
        "sequences = [['start'] + sequence + ['end'] for sequence in sequences]\n",
        "sequences[:2]\n",
        "# Convert the grouped data back to a list of sequences\n",
        "#sequences = sequences.tolist()\n",
        "\n"
      ],
      "metadata": {
        "id": "-dpCHnt8FHak"
      },
      "execution_count": null,
      "outputs": []
    },
    {
      "cell_type": "code",
      "source": [
        "# We need to encode these string labels into integers for the model\n",
        "encoder = LabelEncoder()\n",
        "encoder.fit([surface for sequence in sequences for surface in sequence])\n",
        "sequences_encoded = [encoder.transform(sequence) for sequence in sequences]\n",
        "\n",
        "# Since RNNs require input sequences to be of the same length, we'll pad the sequences with zeros\n",
        "sequences_padded = pad_sequences(sequences_encoded)\n",
        "\n",
        "# Prepare inputs and targets\n",
        "X = sequences_padded[:, :-1]  # all but the last surface\n",
        "y = sequences_padded[:, -1]  # only the last surface\n",
        "\n",
        "# Convert targets to one-hot encoding\n",
        "y = np_utils.to_categorical(y)\n",
        "\n",
        "# Define the model\n",
        "model = Sequential()\n",
        "model.add(SimpleRNN(50, input_shape=(X.shape[1], 1)))  # 50 is the number of recurrent units\n",
        "model.add(Dense(y.shape[1], activation='softmax'))  # output layer\n",
        "\n",
        "# Compile the model\n",
        "model.compile(loss='categorical_crossentropy', optimizer='adam', metrics=['accuracy'])\n",
        "\n",
        "# Reshape input to be [samples, time steps, features] which is required for RNNs\n",
        "X = np.reshape(X, (X.shape[0], X.shape[1], 1))\n",
        "\n",
        "# Train the model\n",
        "model.fit(X, y, epochs=30, batch_size=32)"
      ],
      "metadata": {
        "colab": {
          "base_uri": "https://localhost:8080/"
        },
        "id": "S_M71qtJFJ46",
        "outputId": "ea15ac92-fbfd-447e-a1e7-fd9c567efa0b"
      },
      "execution_count": null,
      "outputs": [
        {
          "output_type": "stream",
          "name": "stdout",
          "text": [
            "Epoch 1/30\n",
            "6/6 [==============================] - 1s 16ms/step - loss: 3.2469 - accuracy: 0.0000e+00\n",
            "Epoch 2/30\n",
            "6/6 [==============================] - 0s 17ms/step - loss: 2.3971 - accuracy: 0.2927\n",
            "Epoch 3/30\n",
            "6/6 [==============================] - 0s 16ms/step - loss: 1.6721 - accuracy: 1.0000\n",
            "Epoch 4/30\n",
            "6/6 [==============================] - 0s 16ms/step - loss: 1.1280 - accuracy: 1.0000\n",
            "Epoch 5/30\n",
            "6/6 [==============================] - 0s 17ms/step - loss: 0.7410 - accuracy: 1.0000\n",
            "Epoch 6/30\n",
            "6/6 [==============================] - 0s 17ms/step - loss: 0.4811 - accuracy: 1.0000\n",
            "Epoch 7/30\n",
            "6/6 [==============================] - 0s 15ms/step - loss: 0.3173 - accuracy: 1.0000\n",
            "Epoch 8/30\n",
            "6/6 [==============================] - 0s 18ms/step - loss: 0.2169 - accuracy: 1.0000\n",
            "Epoch 9/30\n",
            "6/6 [==============================] - 0s 16ms/step - loss: 0.1571 - accuracy: 1.0000\n",
            "Epoch 10/30\n",
            "6/6 [==============================] - 0s 16ms/step - loss: 0.1216 - accuracy: 1.0000\n",
            "Epoch 11/30\n",
            "6/6 [==============================] - 0s 16ms/step - loss: 0.0994 - accuracy: 1.0000\n",
            "Epoch 12/30\n",
            "6/6 [==============================] - 0s 17ms/step - loss: 0.0845 - accuracy: 1.0000\n",
            "Epoch 13/30\n",
            "6/6 [==============================] - 0s 15ms/step - loss: 0.0736 - accuracy: 1.0000\n",
            "Epoch 14/30\n",
            "6/6 [==============================] - 0s 16ms/step - loss: 0.0652 - accuracy: 1.0000\n",
            "Epoch 15/30\n",
            "6/6 [==============================] - 0s 17ms/step - loss: 0.0586 - accuracy: 1.0000\n",
            "Epoch 16/30\n",
            "6/6 [==============================] - 0s 16ms/step - loss: 0.0533 - accuracy: 1.0000\n",
            "Epoch 17/30\n",
            "6/6 [==============================] - 0s 17ms/step - loss: 0.0487 - accuracy: 1.0000\n",
            "Epoch 18/30\n",
            "6/6 [==============================] - 0s 19ms/step - loss: 0.0449 - accuracy: 1.0000\n",
            "Epoch 19/30\n",
            "6/6 [==============================] - 0s 17ms/step - loss: 0.0415 - accuracy: 1.0000\n",
            "Epoch 20/30\n",
            "6/6 [==============================] - 0s 17ms/step - loss: 0.0386 - accuracy: 1.0000\n",
            "Epoch 21/30\n",
            "6/6 [==============================] - 0s 22ms/step - loss: 0.0360 - accuracy: 1.0000\n",
            "Epoch 22/30\n",
            "6/6 [==============================] - 0s 16ms/step - loss: 0.0337 - accuracy: 1.0000\n",
            "Epoch 23/30\n",
            "6/6 [==============================] - 0s 15ms/step - loss: 0.0316 - accuracy: 1.0000\n",
            "Epoch 24/30\n",
            "6/6 [==============================] - 0s 16ms/step - loss: 0.0297 - accuracy: 1.0000\n",
            "Epoch 25/30\n",
            "6/6 [==============================] - 0s 15ms/step - loss: 0.0280 - accuracy: 1.0000\n",
            "Epoch 26/30\n",
            "6/6 [==============================] - 0s 17ms/step - loss: 0.0265 - accuracy: 1.0000\n",
            "Epoch 27/30\n",
            "6/6 [==============================] - 0s 17ms/step - loss: 0.0251 - accuracy: 1.0000\n",
            "Epoch 28/30\n",
            "6/6 [==============================] - 0s 19ms/step - loss: 0.0238 - accuracy: 1.0000\n",
            "Epoch 29/30\n",
            "6/6 [==============================] - 0s 17ms/step - loss: 0.0227 - accuracy: 1.0000\n",
            "Epoch 30/30\n",
            "6/6 [==============================] - 0s 25ms/step - loss: 0.0216 - accuracy: 1.0000\n"
          ]
        },
        {
          "output_type": "execute_result",
          "data": {
            "text/plain": [
              "<keras.callbacks.History at 0x78fe01c0c580>"
            ]
          },
          "metadata": {},
          "execution_count": 22
        }
      ]
    },
    {
      "cell_type": "markdown",
      "source": [
        "## Model Prediction Accuracy"
      ],
      "metadata": {
        "id": "TcAC__S1GV4V"
      }
    },
    {
      "cell_type": "code",
      "source": [
        "y_true[:15]"
      ],
      "metadata": {
        "colab": {
          "base_uri": "https://localhost:8080/"
        },
        "id": "SxqBmDwcGeWI",
        "outputId": "096d59d8-fe5c-4200-8931-d833091779f0"
      },
      "execution_count": null,
      "outputs": [
        {
          "output_type": "execute_result",
          "data": {
            "text/plain": [
              "array([32, 31, 14, 29, 12, 29, 39, 26, 39, 31, 24, 25, 22, 31, 22])"
            ]
          },
          "metadata": {},
          "execution_count": 21
        }
      ]
    },
    {
      "cell_type": "code",
      "source": [
        "# Use the model to predict the next surface for each sequence\n",
        "y_pred = model.predict(X)\n",
        "\n",
        "# Convert the predictions from one-hot encoding to integers\n",
        "y_pred = np.argmax(y_pred, axis=1)\n",
        "\n",
        "# Convert the actual targets from one-hot encoding to integers\n",
        "y_true = np.argmax(y, axis=1)\n",
        "\n",
        "# Calculate the accuracy of the predictions\n",
        "accuracy = np.mean(y_pred == y_true)\n",
        "\n",
        "print(f'Accuracy: {accuracy * 100:.2f}%')\n",
        "\n",
        "# Print out some of the predicted and actual sequences for comparison\n",
        "for i in range(5):  # print the first 5 sequences\n",
        "    print(f'Sequence {i+1}:')\n",
        "    print('Predicted:', y_pred[i])\n",
        "    print('Actual:', y_true[i])\n",
        "    print()"
      ],
      "metadata": {
        "id": "7OfBek7MFahA"
      },
      "execution_count": null,
      "outputs": []
    },
    {
      "cell_type": "markdown",
      "source": [],
      "metadata": {
        "id": "YwpLbQ3QJE20"
      }
    },
    {
      "cell_type": "markdown",
      "source": [],
      "metadata": {
        "id": "51NKilojJEvS"
      }
    },
    {
      "cell_type": "code",
      "source": [
        "import plotly.graph_objects as go\n",
        "\n",
        "# Create a dictionary to store the counts of each transition\n",
        "transition_counts = {}\n",
        "\n",
        "for sequence in sequences:\n",
        "    for i in range(len(sequence) - 1):\n",
        "        # Get the current surface and the next surface\n",
        "        current_surface = sequence[i]\n",
        "        next_surface = sequence[i+1]\n",
        "\n",
        "        # Create a tuple for the transition\n",
        "        transition = (current_surface, next_surface)\n",
        "\n",
        "        # Increment the count for this transition\n",
        "        transition_counts[transition] = transition_counts.get(transition, 0) + 1\n",
        "\n",
        "# Create lists to store the source, target, and value for each transition\n",
        "sources = []\n",
        "targets = []\n",
        "values = []\n",
        "\n",
        "for transition, count in transition_counts.items():\n",
        "    source, target = transition\n",
        "    sources.append(source)\n",
        "    targets.append(target)\n",
        "    values.append(count)\n",
        "\n",
        "# Create a list of all unique surfaces\n",
        "surfaces = list(set(sources + targets))\n",
        "\n",
        "# Convert the sources and targets to indices\n",
        "source_indices = [surfaces.index(source) for source in sources]\n",
        "target_indices = [surfaces.index(target) for target in targets]\n",
        "\n",
        "# Create the Sankey diagram\n",
        "fig = go.Figure(data=[go.Sankey(\n",
        "    node=dict(\n",
        "        pad=15,\n",
        "        thickness=20,\n",
        "        line=dict(color=\"black\", width=0.5),\n",
        "        label=surfaces,\n",
        "    ),\n",
        "    link=dict(\n",
        "        source=source_indices,\n",
        "        target=target_indices,\n",
        "        value=values,\n",
        "    )\n",
        ")])\n",
        "\n",
        "fig.show()\n"
      ],
      "metadata": {
        "id": "qa8baK86JEHw"
      },
      "execution_count": null,
      "outputs": []
    }
  ]
}