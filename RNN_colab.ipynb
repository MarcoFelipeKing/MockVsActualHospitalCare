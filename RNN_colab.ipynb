{
  "nbformat": 4,
  "nbformat_minor": 0,
  "metadata": {
    "colab": {
      "provenance": [],
      "authorship_tag": "ABX9TyN70lZzg5xXL+nG6rR9OX9e",
      "include_colab_link": true
    },
    "kernelspec": {
      "name": "python3",
      "display_name": "Python 3"
    },
    "language_info": {
      "name": "python"
    }
  },
  "cells": [
    {
      "cell_type": "markdown",
      "metadata": {
        "id": "view-in-github",
        "colab_type": "text"
      },
      "source": [
        "<a href=\"https://colab.research.google.com/github/MarcoFelipeKing/MockVsActualHospitalCare/blob/main/RNN_colab.ipynb\" target=\"_parent\"><img src=\"https://colab.research.google.com/assets/colab-badge.svg\" alt=\"Open In Colab\"/></a>"
      ]
    },
    {
      "cell_type": "markdown",
      "source": [],
      "metadata": {
        "id": "rdZKKJZ8alPn"
      }
    },
    {
      "cell_type": "code",
      "source": [
        "tf.__version__"
      ],
      "metadata": {
        "colab": {
          "base_uri": "https://localhost:8080/",
          "height": 35
        },
        "id": "DTHW_MnRErQN",
        "outputId": "60aecf41-9118-4711-8416-2641c9007b2b"
      },
      "execution_count": null,
      "outputs": [
        {
          "output_type": "execute_result",
          "data": {
            "text/plain": [
              "'2.12.0'"
            ],
            "application/vnd.google.colaboratory.intrinsic+json": {
              "type": "string"
            }
          },
          "metadata": {},
          "execution_count": 5
        }
      ]
    },
    {
      "cell_type": "code",
      "execution_count": 1,
      "metadata": {
        "id": "EhRUetpEBFo2"
      },
      "outputs": [],
      "source": [
        "import tensorflow as tf\n",
        "from keras.models import Sequential\n",
        "from keras.layers import SimpleRNN, Dense\n",
        "from tensorflow.keras.preprocessing.sequence import pad_sequences\n",
        "from sklearn.preprocessing import LabelEncoder\n",
        "from keras.utils import np_utils\n",
        "import numpy as np\n",
        "import pandas as pd"
      ]
    },
    {
      "cell_type": "code",
      "source": [
        "# read in the data using pandas ~/Users/marcofking/Documents/GitHub/MockVsActualHospitalCare/MockVsActual_GithubDOI.csv\n",
        "\n",
        "df = pd.read_csv('MockVsActual_GithubDOI.csv')\n",
        "df.head()"
      ],
      "metadata": {
        "colab": {
          "base_uri": "https://localhost:8080/",
          "height": 358
        },
        "id": "53bcBpW5FDiI",
        "outputId": "289236b3-d73d-44c6-b378-120dd84bdc24"
      },
      "execution_count": 2,
      "outputs": [
        {
          "output_type": "error",
          "ename": "FileNotFoundError",
          "evalue": "ignored",
          "traceback": [
            "\u001b[0;31m---------------------------------------------------------------------------\u001b[0m",
            "\u001b[0;31mFileNotFoundError\u001b[0m                         Traceback (most recent call last)",
            "\u001b[0;32m<ipython-input-2-24483a7db7d2>\u001b[0m in \u001b[0;36m<cell line: 3>\u001b[0;34m()\u001b[0m\n\u001b[1;32m      1\u001b[0m \u001b[0;31m# read in the data using pandas ~/Users/marcofking/Documents/GitHub/MockVsActualHospitalCare/MockVsActual_GithubDOI.csv\u001b[0m\u001b[0;34m\u001b[0m\u001b[0;34m\u001b[0m\u001b[0m\n\u001b[1;32m      2\u001b[0m \u001b[0;34m\u001b[0m\u001b[0m\n\u001b[0;32m----> 3\u001b[0;31m \u001b[0mdf\u001b[0m \u001b[0;34m=\u001b[0m \u001b[0mpd\u001b[0m\u001b[0;34m.\u001b[0m\u001b[0mread_csv\u001b[0m\u001b[0;34m(\u001b[0m\u001b[0;34m'MockVsActual_GithubDOI.csv'\u001b[0m\u001b[0;34m)\u001b[0m\u001b[0;34m\u001b[0m\u001b[0;34m\u001b[0m\u001b[0m\n\u001b[0m\u001b[1;32m      4\u001b[0m \u001b[0mdf\u001b[0m\u001b[0;34m.\u001b[0m\u001b[0mhead\u001b[0m\u001b[0;34m(\u001b[0m\u001b[0;34m)\u001b[0m\u001b[0;34m\u001b[0m\u001b[0;34m\u001b[0m\u001b[0m\n",
            "\u001b[0;32m/usr/local/lib/python3.10/dist-packages/pandas/util/_decorators.py\u001b[0m in \u001b[0;36mwrapper\u001b[0;34m(*args, **kwargs)\u001b[0m\n\u001b[1;32m    209\u001b[0m                 \u001b[0;32melse\u001b[0m\u001b[0;34m:\u001b[0m\u001b[0;34m\u001b[0m\u001b[0;34m\u001b[0m\u001b[0m\n\u001b[1;32m    210\u001b[0m                     \u001b[0mkwargs\u001b[0m\u001b[0;34m[\u001b[0m\u001b[0mnew_arg_name\u001b[0m\u001b[0;34m]\u001b[0m \u001b[0;34m=\u001b[0m \u001b[0mnew_arg_value\u001b[0m\u001b[0;34m\u001b[0m\u001b[0;34m\u001b[0m\u001b[0m\n\u001b[0;32m--> 211\u001b[0;31m             \u001b[0;32mreturn\u001b[0m \u001b[0mfunc\u001b[0m\u001b[0;34m(\u001b[0m\u001b[0;34m*\u001b[0m\u001b[0margs\u001b[0m\u001b[0;34m,\u001b[0m \u001b[0;34m**\u001b[0m\u001b[0mkwargs\u001b[0m\u001b[0;34m)\u001b[0m\u001b[0;34m\u001b[0m\u001b[0;34m\u001b[0m\u001b[0m\n\u001b[0m\u001b[1;32m    212\u001b[0m \u001b[0;34m\u001b[0m\u001b[0m\n\u001b[1;32m    213\u001b[0m         \u001b[0;32mreturn\u001b[0m \u001b[0mcast\u001b[0m\u001b[0;34m(\u001b[0m\u001b[0mF\u001b[0m\u001b[0;34m,\u001b[0m \u001b[0mwrapper\u001b[0m\u001b[0;34m)\u001b[0m\u001b[0;34m\u001b[0m\u001b[0;34m\u001b[0m\u001b[0m\n",
            "\u001b[0;32m/usr/local/lib/python3.10/dist-packages/pandas/util/_decorators.py\u001b[0m in \u001b[0;36mwrapper\u001b[0;34m(*args, **kwargs)\u001b[0m\n\u001b[1;32m    329\u001b[0m                     \u001b[0mstacklevel\u001b[0m\u001b[0;34m=\u001b[0m\u001b[0mfind_stack_level\u001b[0m\u001b[0;34m(\u001b[0m\u001b[0;34m)\u001b[0m\u001b[0;34m,\u001b[0m\u001b[0;34m\u001b[0m\u001b[0;34m\u001b[0m\u001b[0m\n\u001b[1;32m    330\u001b[0m                 )\n\u001b[0;32m--> 331\u001b[0;31m             \u001b[0;32mreturn\u001b[0m \u001b[0mfunc\u001b[0m\u001b[0;34m(\u001b[0m\u001b[0;34m*\u001b[0m\u001b[0margs\u001b[0m\u001b[0;34m,\u001b[0m \u001b[0;34m**\u001b[0m\u001b[0mkwargs\u001b[0m\u001b[0;34m)\u001b[0m\u001b[0;34m\u001b[0m\u001b[0;34m\u001b[0m\u001b[0m\n\u001b[0m\u001b[1;32m    332\u001b[0m \u001b[0;34m\u001b[0m\u001b[0m\n\u001b[1;32m    333\u001b[0m         \u001b[0;31m# error: \"Callable[[VarArg(Any), KwArg(Any)], Any]\" has no\u001b[0m\u001b[0;34m\u001b[0m\u001b[0;34m\u001b[0m\u001b[0m\n",
            "\u001b[0;32m/usr/local/lib/python3.10/dist-packages/pandas/io/parsers/readers.py\u001b[0m in \u001b[0;36mread_csv\u001b[0;34m(filepath_or_buffer, sep, delimiter, header, names, index_col, usecols, squeeze, prefix, mangle_dupe_cols, dtype, engine, converters, true_values, false_values, skipinitialspace, skiprows, skipfooter, nrows, na_values, keep_default_na, na_filter, verbose, skip_blank_lines, parse_dates, infer_datetime_format, keep_date_col, date_parser, dayfirst, cache_dates, iterator, chunksize, compression, thousands, decimal, lineterminator, quotechar, quoting, doublequote, escapechar, comment, encoding, encoding_errors, dialect, error_bad_lines, warn_bad_lines, on_bad_lines, delim_whitespace, low_memory, memory_map, float_precision, storage_options)\u001b[0m\n\u001b[1;32m    948\u001b[0m     \u001b[0mkwds\u001b[0m\u001b[0;34m.\u001b[0m\u001b[0mupdate\u001b[0m\u001b[0;34m(\u001b[0m\u001b[0mkwds_defaults\u001b[0m\u001b[0;34m)\u001b[0m\u001b[0;34m\u001b[0m\u001b[0;34m\u001b[0m\u001b[0m\n\u001b[1;32m    949\u001b[0m \u001b[0;34m\u001b[0m\u001b[0m\n\u001b[0;32m--> 950\u001b[0;31m     \u001b[0;32mreturn\u001b[0m \u001b[0m_read\u001b[0m\u001b[0;34m(\u001b[0m\u001b[0mfilepath_or_buffer\u001b[0m\u001b[0;34m,\u001b[0m \u001b[0mkwds\u001b[0m\u001b[0;34m)\u001b[0m\u001b[0;34m\u001b[0m\u001b[0;34m\u001b[0m\u001b[0m\n\u001b[0m\u001b[1;32m    951\u001b[0m \u001b[0;34m\u001b[0m\u001b[0m\n\u001b[1;32m    952\u001b[0m \u001b[0;34m\u001b[0m\u001b[0m\n",
            "\u001b[0;32m/usr/local/lib/python3.10/dist-packages/pandas/io/parsers/readers.py\u001b[0m in \u001b[0;36m_read\u001b[0;34m(filepath_or_buffer, kwds)\u001b[0m\n\u001b[1;32m    603\u001b[0m \u001b[0;34m\u001b[0m\u001b[0m\n\u001b[1;32m    604\u001b[0m     \u001b[0;31m# Create the parser.\u001b[0m\u001b[0;34m\u001b[0m\u001b[0;34m\u001b[0m\u001b[0m\n\u001b[0;32m--> 605\u001b[0;31m     \u001b[0mparser\u001b[0m \u001b[0;34m=\u001b[0m \u001b[0mTextFileReader\u001b[0m\u001b[0;34m(\u001b[0m\u001b[0mfilepath_or_buffer\u001b[0m\u001b[0;34m,\u001b[0m \u001b[0;34m**\u001b[0m\u001b[0mkwds\u001b[0m\u001b[0;34m)\u001b[0m\u001b[0;34m\u001b[0m\u001b[0;34m\u001b[0m\u001b[0m\n\u001b[0m\u001b[1;32m    606\u001b[0m \u001b[0;34m\u001b[0m\u001b[0m\n\u001b[1;32m    607\u001b[0m     \u001b[0;32mif\u001b[0m \u001b[0mchunksize\u001b[0m \u001b[0;32mor\u001b[0m \u001b[0miterator\u001b[0m\u001b[0;34m:\u001b[0m\u001b[0;34m\u001b[0m\u001b[0;34m\u001b[0m\u001b[0m\n",
            "\u001b[0;32m/usr/local/lib/python3.10/dist-packages/pandas/io/parsers/readers.py\u001b[0m in \u001b[0;36m__init__\u001b[0;34m(self, f, engine, **kwds)\u001b[0m\n\u001b[1;32m   1440\u001b[0m \u001b[0;34m\u001b[0m\u001b[0m\n\u001b[1;32m   1441\u001b[0m         \u001b[0mself\u001b[0m\u001b[0;34m.\u001b[0m\u001b[0mhandles\u001b[0m\u001b[0;34m:\u001b[0m \u001b[0mIOHandles\u001b[0m \u001b[0;34m|\u001b[0m \u001b[0;32mNone\u001b[0m \u001b[0;34m=\u001b[0m \u001b[0;32mNone\u001b[0m\u001b[0;34m\u001b[0m\u001b[0;34m\u001b[0m\u001b[0m\n\u001b[0;32m-> 1442\u001b[0;31m         \u001b[0mself\u001b[0m\u001b[0;34m.\u001b[0m\u001b[0m_engine\u001b[0m \u001b[0;34m=\u001b[0m \u001b[0mself\u001b[0m\u001b[0;34m.\u001b[0m\u001b[0m_make_engine\u001b[0m\u001b[0;34m(\u001b[0m\u001b[0mf\u001b[0m\u001b[0;34m,\u001b[0m \u001b[0mself\u001b[0m\u001b[0;34m.\u001b[0m\u001b[0mengine\u001b[0m\u001b[0;34m)\u001b[0m\u001b[0;34m\u001b[0m\u001b[0;34m\u001b[0m\u001b[0m\n\u001b[0m\u001b[1;32m   1443\u001b[0m \u001b[0;34m\u001b[0m\u001b[0m\n\u001b[1;32m   1444\u001b[0m     \u001b[0;32mdef\u001b[0m \u001b[0mclose\u001b[0m\u001b[0;34m(\u001b[0m\u001b[0mself\u001b[0m\u001b[0;34m)\u001b[0m \u001b[0;34m->\u001b[0m \u001b[0;32mNone\u001b[0m\u001b[0;34m:\u001b[0m\u001b[0;34m\u001b[0m\u001b[0;34m\u001b[0m\u001b[0m\n",
            "\u001b[0;32m/usr/local/lib/python3.10/dist-packages/pandas/io/parsers/readers.py\u001b[0m in \u001b[0;36m_make_engine\u001b[0;34m(self, f, engine)\u001b[0m\n\u001b[1;32m   1733\u001b[0m                 \u001b[0;32mif\u001b[0m \u001b[0;34m\"b\"\u001b[0m \u001b[0;32mnot\u001b[0m \u001b[0;32min\u001b[0m \u001b[0mmode\u001b[0m\u001b[0;34m:\u001b[0m\u001b[0;34m\u001b[0m\u001b[0;34m\u001b[0m\u001b[0m\n\u001b[1;32m   1734\u001b[0m                     \u001b[0mmode\u001b[0m \u001b[0;34m+=\u001b[0m \u001b[0;34m\"b\"\u001b[0m\u001b[0;34m\u001b[0m\u001b[0;34m\u001b[0m\u001b[0m\n\u001b[0;32m-> 1735\u001b[0;31m             self.handles = get_handle(\n\u001b[0m\u001b[1;32m   1736\u001b[0m                 \u001b[0mf\u001b[0m\u001b[0;34m,\u001b[0m\u001b[0;34m\u001b[0m\u001b[0;34m\u001b[0m\u001b[0m\n\u001b[1;32m   1737\u001b[0m                 \u001b[0mmode\u001b[0m\u001b[0;34m,\u001b[0m\u001b[0;34m\u001b[0m\u001b[0;34m\u001b[0m\u001b[0m\n",
            "\u001b[0;32m/usr/local/lib/python3.10/dist-packages/pandas/io/common.py\u001b[0m in \u001b[0;36mget_handle\u001b[0;34m(path_or_buf, mode, encoding, compression, memory_map, is_text, errors, storage_options)\u001b[0m\n\u001b[1;32m    854\u001b[0m         \u001b[0;32mif\u001b[0m \u001b[0mioargs\u001b[0m\u001b[0;34m.\u001b[0m\u001b[0mencoding\u001b[0m \u001b[0;32mand\u001b[0m \u001b[0;34m\"b\"\u001b[0m \u001b[0;32mnot\u001b[0m \u001b[0;32min\u001b[0m \u001b[0mioargs\u001b[0m\u001b[0;34m.\u001b[0m\u001b[0mmode\u001b[0m\u001b[0;34m:\u001b[0m\u001b[0;34m\u001b[0m\u001b[0;34m\u001b[0m\u001b[0m\n\u001b[1;32m    855\u001b[0m             \u001b[0;31m# Encoding\u001b[0m\u001b[0;34m\u001b[0m\u001b[0;34m\u001b[0m\u001b[0m\n\u001b[0;32m--> 856\u001b[0;31m             handle = open(\n\u001b[0m\u001b[1;32m    857\u001b[0m                 \u001b[0mhandle\u001b[0m\u001b[0;34m,\u001b[0m\u001b[0;34m\u001b[0m\u001b[0;34m\u001b[0m\u001b[0m\n\u001b[1;32m    858\u001b[0m                 \u001b[0mioargs\u001b[0m\u001b[0;34m.\u001b[0m\u001b[0mmode\u001b[0m\u001b[0;34m,\u001b[0m\u001b[0;34m\u001b[0m\u001b[0;34m\u001b[0m\u001b[0m\n",
            "\u001b[0;31mFileNotFoundError\u001b[0m: [Errno 2] No such file or directory: 'MockVsActual_GithubDOI.csv'"
          ]
        }
      ]
    },
    {
      "cell_type": "code",
      "source": [
        "# Group by 'ActivityID', 'CareType', 'type' and extract the sequences\n",
        "sequences = df.sort_values(['Dev.Date.Time']).groupby(['ActivityID', 'CareType', 'type'])['Surface'].apply(list)\n",
        "\n",
        "# Add start and end tokens to each sequence\n",
        "sequences = [['start'] + sequence + ['end'] for sequence in sequences]\n",
        "sequences[:2]\n",
        "# Convert the grouped data back to a list of sequences\n",
        "#sequences = sequences.tolist()\n",
        "\n"
      ],
      "metadata": {
        "id": "-dpCHnt8FHak"
      },
      "execution_count": null,
      "outputs": []
    },
    {
      "cell_type": "code",
      "source": [
        "# We need to encode these string labels into integers for the model\n",
        "encoder = LabelEncoder()\n",
        "encoder.fit([surface for sequence in sequences for surface in sequence])\n",
        "sequences_encoded = [encoder.transform(sequence) for sequence in sequences]\n",
        "\n",
        "# Since RNNs require input sequences to be of the same length, we'll pad the sequences with zeros\n",
        "sequences_padded = pad_sequences(sequences_encoded)\n",
        "\n",
        "# Prepare inputs and targets\n",
        "X = sequences_padded[:, :-1]  # all but the last surface\n",
        "y = sequences_padded[:, -1]  # only the last surface\n",
        "\n",
        "# Convert targets to one-hot encoding\n",
        "y = np_utils.to_categorical(y)\n",
        "\n",
        "# Define the model\n",
        "model = Sequential()\n",
        "model.add(SimpleRNN(50, input_shape=(X.shape[1], 1)))  # 50 is the number of recurrent units\n",
        "model.add(Dense(y.shape[1], activation='softmax'))  # output layer\n",
        "\n",
        "# Compile the model\n",
        "model.compile(loss='categorical_crossentropy', optimizer='adam', metrics=['accuracy'])\n",
        "\n",
        "# Reshape input to be [samples, time steps, features] which is required for RNNs\n",
        "X = np.reshape(X, (X.shape[0], X.shape[1], 1))\n",
        "\n",
        "# Train the model\n",
        "model.fit(X, y, epochs=30, batch_size=32)"
      ],
      "metadata": {
        "colab": {
          "base_uri": "https://localhost:8080/"
        },
        "id": "S_M71qtJFJ46",
        "outputId": "ea15ac92-fbfd-447e-a1e7-fd9c567efa0b"
      },
      "execution_count": null,
      "outputs": [
        {
          "output_type": "stream",
          "name": "stdout",
          "text": [
            "Epoch 1/30\n",
            "6/6 [==============================] - 1s 16ms/step - loss: 3.2469 - accuracy: 0.0000e+00\n",
            "Epoch 2/30\n",
            "6/6 [==============================] - 0s 17ms/step - loss: 2.3971 - accuracy: 0.2927\n",
            "Epoch 3/30\n",
            "6/6 [==============================] - 0s 16ms/step - loss: 1.6721 - accuracy: 1.0000\n",
            "Epoch 4/30\n",
            "6/6 [==============================] - 0s 16ms/step - loss: 1.1280 - accuracy: 1.0000\n",
            "Epoch 5/30\n",
            "6/6 [==============================] - 0s 17ms/step - loss: 0.7410 - accuracy: 1.0000\n",
            "Epoch 6/30\n",
            "6/6 [==============================] - 0s 17ms/step - loss: 0.4811 - accuracy: 1.0000\n",
            "Epoch 7/30\n",
            "6/6 [==============================] - 0s 15ms/step - loss: 0.3173 - accuracy: 1.0000\n",
            "Epoch 8/30\n",
            "6/6 [==============================] - 0s 18ms/step - loss: 0.2169 - accuracy: 1.0000\n",
            "Epoch 9/30\n",
            "6/6 [==============================] - 0s 16ms/step - loss: 0.1571 - accuracy: 1.0000\n",
            "Epoch 10/30\n",
            "6/6 [==============================] - 0s 16ms/step - loss: 0.1216 - accuracy: 1.0000\n",
            "Epoch 11/30\n",
            "6/6 [==============================] - 0s 16ms/step - loss: 0.0994 - accuracy: 1.0000\n",
            "Epoch 12/30\n",
            "6/6 [==============================] - 0s 17ms/step - loss: 0.0845 - accuracy: 1.0000\n",
            "Epoch 13/30\n",
            "6/6 [==============================] - 0s 15ms/step - loss: 0.0736 - accuracy: 1.0000\n",
            "Epoch 14/30\n",
            "6/6 [==============================] - 0s 16ms/step - loss: 0.0652 - accuracy: 1.0000\n",
            "Epoch 15/30\n",
            "6/6 [==============================] - 0s 17ms/step - loss: 0.0586 - accuracy: 1.0000\n",
            "Epoch 16/30\n",
            "6/6 [==============================] - 0s 16ms/step - loss: 0.0533 - accuracy: 1.0000\n",
            "Epoch 17/30\n",
            "6/6 [==============================] - 0s 17ms/step - loss: 0.0487 - accuracy: 1.0000\n",
            "Epoch 18/30\n",
            "6/6 [==============================] - 0s 19ms/step - loss: 0.0449 - accuracy: 1.0000\n",
            "Epoch 19/30\n",
            "6/6 [==============================] - 0s 17ms/step - loss: 0.0415 - accuracy: 1.0000\n",
            "Epoch 20/30\n",
            "6/6 [==============================] - 0s 17ms/step - loss: 0.0386 - accuracy: 1.0000\n",
            "Epoch 21/30\n",
            "6/6 [==============================] - 0s 22ms/step - loss: 0.0360 - accuracy: 1.0000\n",
            "Epoch 22/30\n",
            "6/6 [==============================] - 0s 16ms/step - loss: 0.0337 - accuracy: 1.0000\n",
            "Epoch 23/30\n",
            "6/6 [==============================] - 0s 15ms/step - loss: 0.0316 - accuracy: 1.0000\n",
            "Epoch 24/30\n",
            "6/6 [==============================] - 0s 16ms/step - loss: 0.0297 - accuracy: 1.0000\n",
            "Epoch 25/30\n",
            "6/6 [==============================] - 0s 15ms/step - loss: 0.0280 - accuracy: 1.0000\n",
            "Epoch 26/30\n",
            "6/6 [==============================] - 0s 17ms/step - loss: 0.0265 - accuracy: 1.0000\n",
            "Epoch 27/30\n",
            "6/6 [==============================] - 0s 17ms/step - loss: 0.0251 - accuracy: 1.0000\n",
            "Epoch 28/30\n",
            "6/6 [==============================] - 0s 19ms/step - loss: 0.0238 - accuracy: 1.0000\n",
            "Epoch 29/30\n",
            "6/6 [==============================] - 0s 17ms/step - loss: 0.0227 - accuracy: 1.0000\n",
            "Epoch 30/30\n",
            "6/6 [==============================] - 0s 25ms/step - loss: 0.0216 - accuracy: 1.0000\n"
          ]
        },
        {
          "output_type": "execute_result",
          "data": {
            "text/plain": [
              "<keras.callbacks.History at 0x78fe01c0c580>"
            ]
          },
          "metadata": {},
          "execution_count": 22
        }
      ]
    },
    {
      "cell_type": "markdown",
      "source": [
        "## Model Prediction Accuracy"
      ],
      "metadata": {
        "id": "TcAC__S1GV4V"
      }
    },
    {
      "cell_type": "code",
      "source": [
        "y_true[:15]"
      ],
      "metadata": {
        "colab": {
          "base_uri": "https://localhost:8080/"
        },
        "id": "SxqBmDwcGeWI",
        "outputId": "096d59d8-fe5c-4200-8931-d833091779f0"
      },
      "execution_count": null,
      "outputs": [
        {
          "output_type": "execute_result",
          "data": {
            "text/plain": [
              "array([32, 31, 14, 29, 12, 29, 39, 26, 39, 31, 24, 25, 22, 31, 22])"
            ]
          },
          "metadata": {},
          "execution_count": 21
        }
      ]
    },
    {
      "cell_type": "code",
      "source": [
        "# Use the model to predict the next surface for each sequence\n",
        "y_pred = model.predict(X)\n",
        "\n",
        "# Convert the predictions from one-hot encoding to integers\n",
        "y_pred = np.argmax(y_pred, axis=1)\n",
        "\n",
        "# Convert the actual targets from one-hot encoding to integers\n",
        "y_true = np.argmax(y, axis=1)\n",
        "\n",
        "# Calculate the accuracy of the predictions\n",
        "accuracy = np.mean(y_pred == y_true)\n",
        "\n",
        "print(f'Accuracy: {accuracy * 100:.2f}%')\n",
        "\n",
        "# Print out some of the predicted and actual sequences for comparison\n",
        "for i in range(5):  # print the first 5 sequences\n",
        "    print(f'Sequence {i+1}:')\n",
        "    print('Predicted:', y_pred[i])\n",
        "    print('Actual:', y_true[i])\n",
        "    print()"
      ],
      "metadata": {
        "id": "7OfBek7MFahA"
      },
      "execution_count": null,
      "outputs": []
    },
    {
      "cell_type": "markdown",
      "source": [],
      "metadata": {
        "id": "YwpLbQ3QJE20"
      }
    },
    {
      "cell_type": "markdown",
      "source": [],
      "metadata": {
        "id": "51NKilojJEvS"
      }
    },
    {
      "cell_type": "code",
      "source": [
        "import plotly.graph_objects as go\n",
        "\n",
        "# Create a dictionary to store the counts of each transition\n",
        "transition_counts = {}\n",
        "\n",
        "for sequence in sequences:\n",
        "    for i in range(len(sequence) - 1):\n",
        "        # Get the current surface and the next surface\n",
        "        current_surface = sequence[i]\n",
        "        next_surface = sequence[i+1]\n",
        "\n",
        "        # Create a tuple for the transition\n",
        "        transition = (current_surface, next_surface)\n",
        "\n",
        "        # Increment the count for this transition\n",
        "        transition_counts[transition] = transition_counts.get(transition, 0) + 1\n",
        "\n",
        "# Create lists to store the source, target, and value for each transition\n",
        "sources = []\n",
        "targets = []\n",
        "values = []\n",
        "\n",
        "for transition, count in transition_counts.items():\n",
        "    source, target = transition\n",
        "    sources.append(source)\n",
        "    targets.append(target)\n",
        "    values.append(count)\n",
        "\n",
        "# Create a list of all unique surfaces\n",
        "surfaces = list(set(sources + targets))\n",
        "\n",
        "# Convert the sources and targets to indices\n",
        "source_indices = [surfaces.index(source) for source in sources]\n",
        "target_indices = [surfaces.index(target) for target in targets]\n",
        "\n",
        "# Create the Sankey diagram\n",
        "fig = go.Figure(data=[go.Sankey(\n",
        "    node=dict(\n",
        "        pad=15,\n",
        "        thickness=20,\n",
        "        line=dict(color=\"black\", width=0.5),\n",
        "        label=surfaces,\n",
        "    ),\n",
        "    link=dict(\n",
        "        source=source_indices,\n",
        "        target=target_indices,\n",
        "        value=values,\n",
        "    )\n",
        ")])\n",
        "\n",
        "fig.show()\n"
      ],
      "metadata": {
        "id": "qa8baK86JEHw"
      },
      "execution_count": null,
      "outputs": []
    }
  ]
}