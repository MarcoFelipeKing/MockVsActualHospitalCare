{
  "cells": [
    {
      "cell_type": "markdown",
      "metadata": {
        "id": "P1ZgvEAcGILe"
      },
      "source": [
        "# HMM Surface Contacts"
      ]
    },
    {
      "cell_type": "code",
      "source": [
        "pip install pomegranate"
      ],
      "metadata": {
        "id": "IoayjDaEGPI8",
        "outputId": "fe1c8adb-8378-4b74-c170-5df32b6ae808",
        "colab": {
          "base_uri": "https://localhost:8080/"
        }
      },
      "execution_count": 3,
      "outputs": [
        {
          "output_type": "stream",
          "name": "stdout",
          "text": [
            "Collecting pomegranate\n",
            "  Downloading pomegranate-1.0.0-py3-none-any.whl (90 kB)\n",
            "\u001b[2K     \u001b[90m━━━━━━━━━━━━━━━━━━━━━━━━━━━━━━━━━━━━━━━\u001b[0m \u001b[32m90.4/90.4 kB\u001b[0m \u001b[31m813.7 kB/s\u001b[0m eta \u001b[36m0:00:00\u001b[0m\n",
            "\u001b[?25hRequirement already satisfied: numpy>=1.22.2 in /usr/local/lib/python3.10/dist-packages (from pomegranate) (1.22.4)\n",
            "Requirement already satisfied: scipy>=1.6.2 in /usr/local/lib/python3.10/dist-packages (from pomegranate) (1.10.1)\n",
            "Requirement already satisfied: scikit-learn>=1.0.2 in /usr/local/lib/python3.10/dist-packages (from pomegranate) (1.2.2)\n",
            "Requirement already satisfied: torch>=1.9.0 in /usr/local/lib/python3.10/dist-packages (from pomegranate) (2.0.1+cu118)\n",
            "Collecting apricot-select>=0.6.1 (from pomegranate)\n",
            "  Downloading apricot-select-0.6.1.tar.gz (28 kB)\n",
            "  Preparing metadata (setup.py) ... \u001b[?25l\u001b[?25hdone\n",
            "Requirement already satisfied: networkx>=2.8.4 in /usr/local/lib/python3.10/dist-packages (from pomegranate) (3.1)\n",
            "Requirement already satisfied: numba>=0.43.0 in /usr/local/lib/python3.10/dist-packages (from apricot-select>=0.6.1->pomegranate) (0.56.4)\n",
            "Requirement already satisfied: tqdm>=4.24.0 in /usr/local/lib/python3.10/dist-packages (from apricot-select>=0.6.1->pomegranate) (4.65.0)\n",
            "Collecting nose (from apricot-select>=0.6.1->pomegranate)\n",
            "  Downloading nose-1.3.7-py3-none-any.whl (154 kB)\n",
            "\u001b[2K     \u001b[90m━━━━━━━━━━━━━━━━━━━━━━━━━━━━━━━━━━━━━━━\u001b[0m \u001b[32m154.7/154.7 kB\u001b[0m \u001b[31m5.8 MB/s\u001b[0m eta \u001b[36m0:00:00\u001b[0m\n",
            "\u001b[?25hRequirement already satisfied: joblib>=1.1.1 in /usr/local/lib/python3.10/dist-packages (from scikit-learn>=1.0.2->pomegranate) (1.3.1)\n",
            "Requirement already satisfied: threadpoolctl>=2.0.0 in /usr/local/lib/python3.10/dist-packages (from scikit-learn>=1.0.2->pomegranate) (3.2.0)\n",
            "Requirement already satisfied: filelock in /usr/local/lib/python3.10/dist-packages (from torch>=1.9.0->pomegranate) (3.12.2)\n",
            "Requirement already satisfied: typing-extensions in /usr/local/lib/python3.10/dist-packages (from torch>=1.9.0->pomegranate) (4.7.1)\n",
            "Requirement already satisfied: sympy in /usr/local/lib/python3.10/dist-packages (from torch>=1.9.0->pomegranate) (1.11.1)\n",
            "Requirement already satisfied: jinja2 in /usr/local/lib/python3.10/dist-packages (from torch>=1.9.0->pomegranate) (3.1.2)\n",
            "Requirement already satisfied: triton==2.0.0 in /usr/local/lib/python3.10/dist-packages (from torch>=1.9.0->pomegranate) (2.0.0)\n",
            "Requirement already satisfied: cmake in /usr/local/lib/python3.10/dist-packages (from triton==2.0.0->torch>=1.9.0->pomegranate) (3.25.2)\n",
            "Requirement already satisfied: lit in /usr/local/lib/python3.10/dist-packages (from triton==2.0.0->torch>=1.9.0->pomegranate) (16.0.6)\n",
            "Requirement already satisfied: llvmlite<0.40,>=0.39.0dev0 in /usr/local/lib/python3.10/dist-packages (from numba>=0.43.0->apricot-select>=0.6.1->pomegranate) (0.39.1)\n",
            "Requirement already satisfied: setuptools in /usr/local/lib/python3.10/dist-packages (from numba>=0.43.0->apricot-select>=0.6.1->pomegranate) (67.7.2)\n",
            "Requirement already satisfied: MarkupSafe>=2.0 in /usr/local/lib/python3.10/dist-packages (from jinja2->torch>=1.9.0->pomegranate) (2.1.3)\n",
            "Requirement already satisfied: mpmath>=0.19 in /usr/local/lib/python3.10/dist-packages (from sympy->torch>=1.9.0->pomegranate) (1.3.0)\n",
            "Building wheels for collected packages: apricot-select\n",
            "  Building wheel for apricot-select (setup.py) ... \u001b[?25l\u001b[?25hdone\n",
            "  Created wheel for apricot-select: filename=apricot_select-0.6.1-py3-none-any.whl size=48768 sha256=ed2d430ee2385469a9bcc32b79f12564d2ddc2b5a4e13e5f9bc31081225a0e3e\n",
            "  Stored in directory: /root/.cache/pip/wheels/df/d8/f9/4d62b7272bff772a126a52e507212c2fd33c0b8416d9389665\n",
            "Successfully built apricot-select\n",
            "Installing collected packages: nose, apricot-select, pomegranate\n",
            "Successfully installed apricot-select-0.6.1 nose-1.3.7 pomegranate-1.0.0\n"
          ]
        }
      ]
    },
    {
      "cell_type": "code",
      "execution_count": 4,
      "metadata": {
        "id": "l44ZdcHOGILf"
      },
      "outputs": [],
      "source": [
        "import pandas as pd\n",
        "import numpy as np\n",
        "import matplotlib.pyplot as plt\n",
        "import seaborn as sns\n",
        "import os\n",
        "from sklearn.preprocessing import LabelEncoder\n",
        "#from hmmlearn import hmm\n",
        "from pomegranate import *\n",
        "from sklearn.model_selection import train_test_split"
      ]
    },
    {
      "cell_type": "code",
      "execution_count": null,
      "metadata": {
        "id": "UBqLSoU2GILg",
        "outputId": "ecd0b0b6-60f1-4e41-c595-ab749e3a8e97"
      },
      "outputs": [
        {
          "name": "stdout",
          "output_type": "stream",
          "text": [
            "Collecting hmmlearn\n",
            "  Downloading hmmlearn-0.3.0-cp39-cp39-macosx_10_9_universal2.whl (192 kB)\n",
            "\u001b[2K     \u001b[90m━━━━━━━━━━━━━━━━━━━━━━━━━━━━━━━━━━━━━━━\u001b[0m \u001b[32m192.9/192.9 KB\u001b[0m \u001b[31m4.0 MB/s\u001b[0m eta \u001b[36m0:00:00\u001b[0ma \u001b[36m0:00:01\u001b[0m\n",
            "\u001b[?25hRequirement already satisfied: numpy>=1.10 in /opt/homebrew/Caskroom/miniforge/base/envs/tensorflow/lib/python3.9/site-packages (from hmmlearn) (1.22.3)\n",
            "Requirement already satisfied: scipy>=0.19 in /opt/homebrew/Caskroom/miniforge/base/envs/tensorflow/lib/python3.9/site-packages (from hmmlearn) (1.7.3)\n",
            "Requirement already satisfied: scikit-learn!=0.22.0,>=0.16 in /opt/homebrew/Caskroom/miniforge/base/envs/tensorflow/lib/python3.9/site-packages (from hmmlearn) (1.0.2)\n",
            "Requirement already satisfied: joblib>=0.11 in /opt/homebrew/Caskroom/miniforge/base/envs/tensorflow/lib/python3.9/site-packages (from scikit-learn!=0.22.0,>=0.16->hmmlearn) (1.1.0)\n",
            "Requirement already satisfied: threadpoolctl>=2.0.0 in /opt/homebrew/Caskroom/miniforge/base/envs/tensorflow/lib/python3.9/site-packages (from scikit-learn!=0.22.0,>=0.16->hmmlearn) (2.2.0)\n",
            "Installing collected packages: hmmlearn\n",
            "Successfully installed hmmlearn-0.3.0\n",
            "\u001b[33mWARNING: You are using pip version 22.0.4; however, version 23.2.1 is available.\n",
            "You should consider upgrading via the '/opt/homebrew/Caskroom/miniforge/base/envs/tensorflow/bin/python -m pip install --upgrade pip' command.\u001b[0m\u001b[33m\n",
            "\u001b[0mNote: you may need to restart the kernel to use updated packages.\n"
          ]
        }
      ],
      "source": [
        "#pip install hmmlearn"
      ]
    },
    {
      "cell_type": "code",
      "execution_count": 6,
      "metadata": {
        "id": "BbyH6s_YGILg",
        "outputId": "048ad418-b85e-4775-fe1a-75ba85b08d83",
        "colab": {
          "base_uri": "https://localhost:8080/"
        }
      },
      "outputs": [
        {
          "output_type": "stream",
          "name": "stdout",
          "text": [
            "1164\n"
          ]
        }
      ],
      "source": [
        "# import data from data\n",
        "\n",
        "df = pd.read_csv('movsdf.rbind_orientationcorrected.csv')\n",
        "df.head()\n",
        "print(len(df))\n",
        "\n",
        "# remove any NAN values\n",
        "df = df.dropna()\n",
        "\n",
        "# filter only first 20 rows\n"
      ]
    },
    {
      "cell_type": "code",
      "execution_count": 7,
      "metadata": {
        "id": "Dr-oLWwSGILh",
        "outputId": "78cc588f-3923-4b8c-b9c3-1685fd2ef9cd",
        "colab": {
          "base_uri": "https://localhost:8080/"
        }
      },
      "outputs": [
        {
          "output_type": "execute_result",
          "data": {
            "text/plain": [
              "ActivityID\n",
              "1     [HygieneArea, In, FarPatient, FarPatient, FarP...\n",
              "2     [HygieneArea, In, FarPatient, FarPatient, Pati...\n",
              "3     [In, Equipment, FarPatient, FarPatient, FarPat...\n",
              "4     [In, FarPatient, FarPatient, FarPatient, FarPa...\n",
              "5     [HygieneArea, In, FarPatient, FarPatient, Pati...\n",
              "                            ...                        \n",
              "58    [In, FarPatient, FarPatient, NearPatient, Equi...\n",
              "59    [In, FarPatient, FarPatient, Equipment, Equipm...\n",
              "60    [In, FarPatient, FarPatient, Equipment, Equipm...\n",
              "61    [In, FarPatient, Equipment, Equipment, NearPat...\n",
              "62    [In, FarPatient, FarPatient, FarPatient, Equip...\n",
              "Name: SurfaceCategories, Length: 62, dtype: object"
            ]
          },
          "metadata": {},
          "execution_count": 7
        }
      ],
      "source": [
        "\n",
        "# Create a new column combining 'CareType' and 'HCWType'\n",
        "df['HiddenState'] = df['CareType'] + \"_\" + df['HCWType']\n",
        "\n",
        "# Group by 'ActivityID' and create sequences\n",
        "sequences = df.groupby('ActivityID')['SurfaceCategories'].apply(list)\n",
        "hidden_states = df.groupby('ActivityID')['HiddenState'].apply(list)\n",
        "\n",
        "\n",
        "sequences"
      ]
    },
    {
      "cell_type": "code",
      "execution_count": null,
      "metadata": {
        "id": "lnuAy2OfGILh",
        "outputId": "1eeb94fa-7dff-4761-89c6-c09b8f2d2eb6"
      },
      "outputs": [
        {
          "ename": "KeyError",
          "evalue": "'sequence'",
          "output_type": "error",
          "traceback": [
            "\u001b[0;31m---------------------------------------------------------------------------\u001b[0m",
            "\u001b[0;31mKeyError\u001b[0m                                  Traceback (most recent call last)",
            "File \u001b[0;32m/opt/homebrew/Caskroom/miniforge/base/envs/tensorflow/lib/python3.9/site-packages/pandas/core/indexes/base.py:3361\u001b[0m, in \u001b[0;36mIndex.get_loc\u001b[0;34m(self, key, method, tolerance)\u001b[0m\n\u001b[1;32m   3360\u001b[0m \u001b[39mtry\u001b[39;00m:\n\u001b[0;32m-> 3361\u001b[0m     \u001b[39mreturn\u001b[39;00m \u001b[39mself\u001b[39;49m\u001b[39m.\u001b[39;49m_engine\u001b[39m.\u001b[39;49mget_loc(casted_key)\n\u001b[1;32m   3362\u001b[0m \u001b[39mexcept\u001b[39;00m \u001b[39mKeyError\u001b[39;00m \u001b[39mas\u001b[39;00m err:\n",
            "File \u001b[0;32m/opt/homebrew/Caskroom/miniforge/base/envs/tensorflow/lib/python3.9/site-packages/pandas/_libs/index.pyx:76\u001b[0m, in \u001b[0;36mpandas._libs.index.IndexEngine.get_loc\u001b[0;34m()\u001b[0m\n",
            "File \u001b[0;32mpandas/_libs/index_class_helper.pxi:105\u001b[0m, in \u001b[0;36mpandas._libs.index.Int64Engine._check_type\u001b[0;34m()\u001b[0m\n",
            "File \u001b[0;32mpandas/_libs/index_class_helper.pxi:105\u001b[0m, in \u001b[0;36mpandas._libs.index.Int64Engine._check_type\u001b[0;34m()\u001b[0m\n",
            "\u001b[0;31mKeyError\u001b[0m: 'sequence'",
            "\nThe above exception was the direct cause of the following exception:\n",
            "\u001b[0;31mKeyError\u001b[0m                                  Traceback (most recent call last)",
            "\u001b[1;32m/Users/marcofking/Documents/GitHub/MockVsActualHospitalCare/code/HMM_surface_predictions.ipynb Cell 6\u001b[0m in \u001b[0;36m<cell line: 11>\u001b[0;34m()\u001b[0m\n\u001b[1;32m      <a href='vscode-notebook-cell:/Users/marcofking/Documents/GitHub/MockVsActualHospitalCare/code/HMM_surface_predictions.ipynb#W6sZmlsZQ%3D%3D?line=6'>7</a>\u001b[0m \u001b[39mimport\u001b[39;00m \u001b[39mmatplotlib\u001b[39;00m\u001b[39m.\u001b[39;00m\u001b[39mpyplot\u001b[39;00m \u001b[39mas\u001b[39;00m \u001b[39mplt\u001b[39;00m\n\u001b[1;32m     <a href='vscode-notebook-cell:/Users/marcofking/Documents/GitHub/MockVsActualHospitalCare/code/HMM_surface_predictions.ipynb#W6sZmlsZQ%3D%3D?line=9'>10</a>\u001b[0m \u001b[39m# calculate length of each sequence\u001b[39;00m\n\u001b[0;32m---> <a href='vscode-notebook-cell:/Users/marcofking/Documents/GitHub/MockVsActualHospitalCare/code/HMM_surface_predictions.ipynb#W6sZmlsZQ%3D%3D?line=10'>11</a>\u001b[0m surface[\u001b[39m'\u001b[39m\u001b[39mlength\u001b[39m\u001b[39m'\u001b[39m] \u001b[39m=\u001b[39m sequences[\u001b[39m'\u001b[39;49m\u001b[39msequence\u001b[39;49m\u001b[39m'\u001b[39;49m]\u001b[39m.\u001b[39mstr\u001b[39m.\u001b[39mlen()\n\u001b[1;32m     <a href='vscode-notebook-cell:/Users/marcofking/Documents/GitHub/MockVsActualHospitalCare/code/HMM_surface_predictions.ipynb#W6sZmlsZQ%3D%3D?line=12'>13</a>\u001b[0m \u001b[39m# plot violin plot\u001b[39;00m\n\u001b[1;32m     <a href='vscode-notebook-cell:/Users/marcofking/Documents/GitHub/MockVsActualHospitalCare/code/HMM_surface_predictions.ipynb#W6sZmlsZQ%3D%3D?line=13'>14</a>\u001b[0m sns\u001b[39m.\u001b[39mviolinplot(x\u001b[39m=\u001b[39m\u001b[39m'\u001b[39m\u001b[39mlength\u001b[39m\u001b[39m'\u001b[39m, data\u001b[39m=\u001b[39msurface)\n",
            "File \u001b[0;32m/opt/homebrew/Caskroom/miniforge/base/envs/tensorflow/lib/python3.9/site-packages/pandas/core/series.py:942\u001b[0m, in \u001b[0;36mSeries.__getitem__\u001b[0;34m(self, key)\u001b[0m\n\u001b[1;32m    939\u001b[0m     \u001b[39mreturn\u001b[39;00m \u001b[39mself\u001b[39m\u001b[39m.\u001b[39m_values[key]\n\u001b[1;32m    941\u001b[0m \u001b[39melif\u001b[39;00m key_is_scalar:\n\u001b[0;32m--> 942\u001b[0m     \u001b[39mreturn\u001b[39;00m \u001b[39mself\u001b[39;49m\u001b[39m.\u001b[39;49m_get_value(key)\n\u001b[1;32m    944\u001b[0m \u001b[39mif\u001b[39;00m is_hashable(key):\n\u001b[1;32m    945\u001b[0m     \u001b[39m# Otherwise index.get_value will raise InvalidIndexError\u001b[39;00m\n\u001b[1;32m    946\u001b[0m     \u001b[39mtry\u001b[39;00m:\n\u001b[1;32m    947\u001b[0m         \u001b[39m# For labels that don't resolve as scalars like tuples and frozensets\u001b[39;00m\n",
            "File \u001b[0;32m/opt/homebrew/Caskroom/miniforge/base/envs/tensorflow/lib/python3.9/site-packages/pandas/core/series.py:1051\u001b[0m, in \u001b[0;36mSeries._get_value\u001b[0;34m(self, label, takeable)\u001b[0m\n\u001b[1;32m   1048\u001b[0m     \u001b[39mreturn\u001b[39;00m \u001b[39mself\u001b[39m\u001b[39m.\u001b[39m_values[label]\n\u001b[1;32m   1050\u001b[0m \u001b[39m# Similar to Index.get_value, but we do not fall back to positional\u001b[39;00m\n\u001b[0;32m-> 1051\u001b[0m loc \u001b[39m=\u001b[39m \u001b[39mself\u001b[39;49m\u001b[39m.\u001b[39;49mindex\u001b[39m.\u001b[39;49mget_loc(label)\n\u001b[1;32m   1052\u001b[0m \u001b[39mreturn\u001b[39;00m \u001b[39mself\u001b[39m\u001b[39m.\u001b[39mindex\u001b[39m.\u001b[39m_get_values_for_loc(\u001b[39mself\u001b[39m, loc, label)\n",
            "File \u001b[0;32m/opt/homebrew/Caskroom/miniforge/base/envs/tensorflow/lib/python3.9/site-packages/pandas/core/indexes/base.py:3363\u001b[0m, in \u001b[0;36mIndex.get_loc\u001b[0;34m(self, key, method, tolerance)\u001b[0m\n\u001b[1;32m   3361\u001b[0m         \u001b[39mreturn\u001b[39;00m \u001b[39mself\u001b[39m\u001b[39m.\u001b[39m_engine\u001b[39m.\u001b[39mget_loc(casted_key)\n\u001b[1;32m   3362\u001b[0m     \u001b[39mexcept\u001b[39;00m \u001b[39mKeyError\u001b[39;00m \u001b[39mas\u001b[39;00m err:\n\u001b[0;32m-> 3363\u001b[0m         \u001b[39mraise\u001b[39;00m \u001b[39mKeyError\u001b[39;00m(key) \u001b[39mfrom\u001b[39;00m \u001b[39merr\u001b[39;00m\n\u001b[1;32m   3365\u001b[0m \u001b[39mif\u001b[39;00m is_scalar(key) \u001b[39mand\u001b[39;00m isna(key) \u001b[39mand\u001b[39;00m \u001b[39mnot\u001b[39;00m \u001b[39mself\u001b[39m\u001b[39m.\u001b[39mhasnans:\n\u001b[1;32m   3366\u001b[0m     \u001b[39mraise\u001b[39;00m \u001b[39mKeyError\u001b[39;00m(key)\n",
            "\u001b[0;31mKeyError\u001b[0m: 'sequence'"
          ]
        }
      ],
      "source": [
        "# calcualte summary statistics for the length of the surface sequences and plot a violin plot using seaborn\n",
        "# Input: surface sequences\n",
        "# Output: violin plot of surface sequence lengths\n",
        "\n",
        "import pandas as pd\n",
        "import seaborn as sns\n",
        "import matplotlib.pyplot as plt\n",
        "\n",
        "\n",
        "# calculate length of each sequence\n",
        "surface['length'] = sequences['sequence'].str.len()\n",
        "\n",
        "# plot violin plot\n",
        "sns.violinplot(x='length', data=surface)\n",
        "plt.xlabel('Length of surface sequence')\n",
        "plt.ylabel('Density')\n",
        "plt.title('Length of surface sequences')\n",
        "plt.show()\n"
      ]
    },
    {
      "cell_type": "code",
      "execution_count": null,
      "metadata": {
        "id": "llpmUudXGILi",
        "outputId": "1d6fab97-e92c-4232-a34c-222b52d0493c"
      },
      "outputs": [
        {
          "name": "stderr",
          "output_type": "stream",
          "text": [
            "MultinomialHMM has undergone major changes. The previous version was implementing a CategoricalHMM (a special case of MultinomialHMM). This new implementation follows the standard definition for a Multinomial distribution (e.g. as in https://en.wikipedia.org/wiki/Multinomial_distribution). See these issues for details:\n",
            "https://github.com/hmmlearn/hmmlearn/issues/335\n",
            "https://github.com/hmmlearn/hmmlearn/issues/340\n"
          ]
        },
        {
          "name": "stdout",
          "output_type": "stream",
          "text": [
            "20 6 20 6\n",
            "[nan nan nan nan nan nan]\n",
            "[[nan nan nan nan nan nan]\n",
            " [nan nan nan nan nan nan]\n",
            " [nan nan nan nan nan nan]\n",
            " [nan nan nan nan nan nan]\n",
            " [nan nan nan nan nan nan]\n",
            " [nan nan nan nan nan nan]]\n"
          ]
        }
      ],
      "source": [
        "# Fit a LabelEncoder for the sequences and hidden states\n",
        "sequence_encoder = LabelEncoder()\n",
        "sequence_encoder.fit(np.hstack(sequences.values))\n",
        "\n",
        "hidden_state_encoder = LabelEncoder()\n",
        "hidden_state_encoder.fit(np.hstack(hidden_states.values))\n",
        "\n",
        "# Transform the sequences and hidden states to integers\n",
        "sequences = sequences.apply(sequence_encoder.transform)\n",
        "hidden_states = hidden_states.apply(hidden_state_encoder.transform)\n",
        "\n",
        "# Split the sequences into a training set and a test set\n",
        "sequences_train, sequences_test, hidden_states_train, hidden_states_test = train_test_split(\n",
        "    sequences, hidden_states, test_size=0.2, random_state=42)\n",
        "\n",
        "print(len(sequences_train), len(sequences_test), len(hidden_states_train), len(hidden_states_test))\n",
        "\n",
        "sequences_train=sequences_train.tolist()\n",
        "hidden_states_train=hidden_states_train.tolist()\n",
        "sequences_test=sequences_test.tolist()\n",
        "\n",
        "# Create a Multinomial HMM\n",
        "model = hmm.MultinomialHMM(n_components=len(hidden_state_encoder.classes_))\n",
        "\n",
        "# Prepare the data for the HMM\n",
        "X = np.concatenate(sequences_train)\n",
        "lengths = list(map(len, sequences_train))\n",
        "\n",
        "# Fit the HMM\n",
        "model.fit(X.reshape(-1, 1), lengths=lengths)\n",
        "\n",
        "model\n",
        "print(model.startprob_)\n",
        "print(model.transmat_)"
      ]
    },
    {
      "cell_type": "code",
      "execution_count": null,
      "metadata": {
        "id": "6IwLWUCHGILi",
        "outputId": "0080738b-ddac-485e-bd46-f90e24900333"
      },
      "outputs": [
        {
          "ename": "ValueError",
          "evalue": "startprob_ must sum to 1 (got nan)",
          "output_type": "error",
          "traceback": [
            "\u001b[0;31m---------------------------------------------------------------------------\u001b[0m",
            "\u001b[0;31mValueError\u001b[0m                                Traceback (most recent call last)",
            "\u001b[1;32m/Users/marcofking/Documents/GitHub/MockVsActualHospitalCare/code/HMM_surface_predictions.ipynb Cell 8\u001b[0m in \u001b[0;36m<cell line: 2>\u001b[0;34m()\u001b[0m\n\u001b[1;32m      <a href='vscode-notebook-cell:/Users/marcofking/Documents/GitHub/MockVsActualHospitalCare/code/HMM_surface_predictions.ipynb#X11sZmlsZQ%3D%3D?line=0'>1</a>\u001b[0m \u001b[39m# Generate a new sequence of surface contacts\u001b[39;00m\n\u001b[0;32m----> <a href='vscode-notebook-cell:/Users/marcofking/Documents/GitHub/MockVsActualHospitalCare/code/HMM_surface_predictions.ipynb#X11sZmlsZQ%3D%3D?line=1'>2</a>\u001b[0m _, new_sequence \u001b[39m=\u001b[39m model\u001b[39m.\u001b[39;49msample(\u001b[39m10\u001b[39;49m)  \u001b[39m# Change 10 to the desired sequence length\u001b[39;00m\n\u001b[1;32m      <a href='vscode-notebook-cell:/Users/marcofking/Documents/GitHub/MockVsActualHospitalCare/code/HMM_surface_predictions.ipynb#X11sZmlsZQ%3D%3D?line=3'>4</a>\u001b[0m \u001b[39m# The new sequence is an array of integers, so we use the inverse_transform method to convert it back to surface names\u001b[39;00m\n\u001b[1;32m      <a href='vscode-notebook-cell:/Users/marcofking/Documents/GitHub/MockVsActualHospitalCare/code/HMM_surface_predictions.ipynb#X11sZmlsZQ%3D%3D?line=4'>5</a>\u001b[0m new_sequence_surfaces \u001b[39m=\u001b[39m sequence_encoder\u001b[39m.\u001b[39minverse_transform(new_sequence\u001b[39m.\u001b[39mreshape(\u001b[39m-\u001b[39m\u001b[39m1\u001b[39m))\n",
            "File \u001b[0;32m/opt/homebrew/Caskroom/miniforge/base/envs/tensorflow/lib/python3.9/site-packages/hmmlearn/base.py:416\u001b[0m, in \u001b[0;36m_AbstractHMM.sample\u001b[0;34m(self, n_samples, random_state, currstate)\u001b[0m\n\u001b[1;32m    387\u001b[0m \u001b[39m\"\"\"\u001b[39;00m\n\u001b[1;32m    388\u001b[0m \u001b[39mGenerate random samples from the model.\u001b[39;00m\n\u001b[1;32m    389\u001b[0m \n\u001b[0;32m   (...)\u001b[0m\n\u001b[1;32m    413\u001b[0m \u001b[39m    X, Z = model.sample(n_samples=10, currstate=Z[-1])\u001b[39;00m\n\u001b[1;32m    414\u001b[0m \u001b[39m\"\"\"\u001b[39;00m\n\u001b[1;32m    415\u001b[0m check_is_fitted(\u001b[39mself\u001b[39m, \u001b[39m\"\u001b[39m\u001b[39mstartprob_\u001b[39m\u001b[39m\"\u001b[39m)\n\u001b[0;32m--> 416\u001b[0m \u001b[39mself\u001b[39;49m\u001b[39m.\u001b[39;49m_check()\n\u001b[1;32m    418\u001b[0m \u001b[39mif\u001b[39;00m random_state \u001b[39mis\u001b[39;00m \u001b[39mNone\u001b[39;00m:\n\u001b[1;32m    419\u001b[0m     random_state \u001b[39m=\u001b[39m \u001b[39mself\u001b[39m\u001b[39m.\u001b[39mrandom_state\n",
            "File \u001b[0;32m/opt/homebrew/Caskroom/miniforge/base/envs/tensorflow/lib/python3.9/site-packages/hmmlearn/hmm.py:903\u001b[0m, in \u001b[0;36mMultinomialHMM._check\u001b[0;34m(self)\u001b[0m\n\u001b[1;32m    902\u001b[0m \u001b[39mdef\u001b[39;00m \u001b[39m_check\u001b[39m(\u001b[39mself\u001b[39m):\n\u001b[0;32m--> 903\u001b[0m     \u001b[39msuper\u001b[39;49m()\u001b[39m.\u001b[39;49m_check()\n\u001b[1;32m    904\u001b[0m     \u001b[39mself\u001b[39m\u001b[39m.\u001b[39memissionprob_ \u001b[39m=\u001b[39m np\u001b[39m.\u001b[39matleast_2d(\u001b[39mself\u001b[39m\u001b[39m.\u001b[39memissionprob_)\n\u001b[1;32m    905\u001b[0m     n_features \u001b[39m=\u001b[39m \u001b[39mgetattr\u001b[39m(\u001b[39mself\u001b[39m, \u001b[39m\"\u001b[39m\u001b[39mn_features\u001b[39m\u001b[39m\"\u001b[39m, \u001b[39mself\u001b[39m\u001b[39m.\u001b[39memissionprob_\u001b[39m.\u001b[39mshape[\u001b[39m1\u001b[39m])\n",
            "File \u001b[0;32m/opt/homebrew/Caskroom/miniforge/base/envs/tensorflow/lib/python3.9/site-packages/hmmlearn/base.py:949\u001b[0m, in \u001b[0;36mBaseHMM._check\u001b[0;34m(self)\u001b[0m\n\u001b[1;32m    947\u001b[0m \u001b[39mif\u001b[39;00m \u001b[39mlen\u001b[39m(\u001b[39mself\u001b[39m\u001b[39m.\u001b[39mstartprob_) \u001b[39m!=\u001b[39m \u001b[39mself\u001b[39m\u001b[39m.\u001b[39mn_components:\n\u001b[1;32m    948\u001b[0m     \u001b[39mraise\u001b[39;00m \u001b[39mValueError\u001b[39;00m(\u001b[39m\"\u001b[39m\u001b[39mstartprob_ must have length n_components\u001b[39m\u001b[39m\"\u001b[39m)\n\u001b[0;32m--> 949\u001b[0m \u001b[39mself\u001b[39;49m\u001b[39m.\u001b[39;49m_check_sum_1(\u001b[39m\"\u001b[39;49m\u001b[39mstartprob_\u001b[39;49m\u001b[39m\"\u001b[39;49m)\n\u001b[1;32m    951\u001b[0m \u001b[39mself\u001b[39m\u001b[39m.\u001b[39mtransmat_ \u001b[39m=\u001b[39m np\u001b[39m.\u001b[39masarray(\u001b[39mself\u001b[39m\u001b[39m.\u001b[39mtransmat_)\n\u001b[1;32m    952\u001b[0m \u001b[39mif\u001b[39;00m \u001b[39mself\u001b[39m\u001b[39m.\u001b[39mtransmat_\u001b[39m.\u001b[39mshape \u001b[39m!=\u001b[39m (\u001b[39mself\u001b[39m\u001b[39m.\u001b[39mn_components, \u001b[39mself\u001b[39m\u001b[39m.\u001b[39mn_components):\n",
            "File \u001b[0;32m/opt/homebrew/Caskroom/miniforge/base/envs/tensorflow/lib/python3.9/site-packages/hmmlearn/base.py:931\u001b[0m, in \u001b[0;36mBaseHMM._check_sum_1\u001b[0;34m(self, name)\u001b[0m\n\u001b[1;32m    929\u001b[0m s \u001b[39m=\u001b[39m \u001b[39mgetattr\u001b[39m(\u001b[39mself\u001b[39m, name)\u001b[39m.\u001b[39msum(axis\u001b[39m=\u001b[39m\u001b[39m-\u001b[39m\u001b[39m1\u001b[39m)\n\u001b[1;32m    930\u001b[0m \u001b[39mif\u001b[39;00m \u001b[39mnot\u001b[39;00m np\u001b[39m.\u001b[39mallclose(s, \u001b[39m1\u001b[39m):\n\u001b[0;32m--> 931\u001b[0m     \u001b[39mraise\u001b[39;00m \u001b[39mValueError\u001b[39;00m(\n\u001b[1;32m    932\u001b[0m         \u001b[39mf\u001b[39m\u001b[39m\"\u001b[39m\u001b[39m{\u001b[39;00mname\u001b[39m}\u001b[39;00m\u001b[39m must sum to 1 (got \u001b[39m\u001b[39m{\u001b[39;00ms\u001b[39m:\u001b[39;00m\u001b[39m.4f\u001b[39m\u001b[39m}\u001b[39;00m\u001b[39m)\u001b[39m\u001b[39m\"\u001b[39m \u001b[39mif\u001b[39;00m s\u001b[39m.\u001b[39mndim \u001b[39m==\u001b[39m \u001b[39m0\u001b[39m \u001b[39melse\u001b[39;00m\n\u001b[1;32m    933\u001b[0m         \u001b[39mf\u001b[39m\u001b[39m\"\u001b[39m\u001b[39m{\u001b[39;00mname\u001b[39m}\u001b[39;00m\u001b[39m rows must sum to 1 (got \u001b[39m\u001b[39m{\u001b[39;00ms\u001b[39m}\u001b[39;00m\u001b[39m)\u001b[39m\u001b[39m\"\u001b[39m \u001b[39mif\u001b[39;00m s\u001b[39m.\u001b[39mndim \u001b[39m==\u001b[39m \u001b[39m1\u001b[39m \u001b[39melse\u001b[39;00m\n\u001b[1;32m    934\u001b[0m         \u001b[39m\"\u001b[39m\u001b[39mExpected 1D or 2D array\u001b[39m\u001b[39m\"\u001b[39m)\n",
            "\u001b[0;31mValueError\u001b[0m: startprob_ must sum to 1 (got nan)"
          ]
        }
      ],
      "source": [
        "# Generate a new sequence of surface contacts\n",
        "_, new_sequence = model.sample(10)  # Change 10 to the desired sequence length\n",
        "\n",
        "# The new sequence is an array of integers, so we use the inverse_transform method to convert it back to surface names\n",
        "new_sequence_surfaces = sequence_encoder.inverse_transform(new_sequence.reshape(-1))\n",
        "\n",
        "print(new_sequence_surfaces)\n"
      ]
    },
    {
      "cell_type": "code",
      "execution_count": null,
      "metadata": {
        "id": "axL19bxDGILi",
        "outputId": "9dcb0c33-5bf9-488b-edb2-4392d86b9547"
      },
      "outputs": [
        {
          "ename": "ValueError",
          "evalue": "startprob_ must sum to 1 (got nan)",
          "output_type": "error",
          "traceback": [
            "\u001b[0;31m---------------------------------------------------------------------------\u001b[0m",
            "\u001b[0;31mValueError\u001b[0m                                Traceback (most recent call last)",
            "\u001b[1;32m/Users/marcofking/Documents/GitHub/MockVsActualHospitalCare/code/HMM_surface_predictions.ipynb Cell 9\u001b[0m in \u001b[0;36m<cell line: 2>\u001b[0;34m()\u001b[0m\n\u001b[1;32m      <a href='vscode-notebook-cell:/Users/marcofking/Documents/GitHub/MockVsActualHospitalCare/code/HMM_surface_predictions.ipynb#X10sZmlsZQ%3D%3D?line=0'>1</a>\u001b[0m \u001b[39m# Generate new sequences with the same lengths as the sequences in the test data\u001b[39;00m\n\u001b[0;32m----> <a href='vscode-notebook-cell:/Users/marcofking/Documents/GitHub/MockVsActualHospitalCare/code/HMM_surface_predictions.ipynb#X10sZmlsZQ%3D%3D?line=1'>2</a>\u001b[0m new_sequences \u001b[39m=\u001b[39m [model\u001b[39m.\u001b[39msample(\u001b[39mlen\u001b[39m(seq))[\u001b[39m1\u001b[39m] \u001b[39mfor\u001b[39;00m seq \u001b[39min\u001b[39;00m sequences_test]\n\u001b[1;32m      <a href='vscode-notebook-cell:/Users/marcofking/Documents/GitHub/MockVsActualHospitalCare/code/HMM_surface_predictions.ipynb#X10sZmlsZQ%3D%3D?line=3'>4</a>\u001b[0m \u001b[39m# Calculate the lengths of the new sequences\u001b[39;00m\n\u001b[1;32m      <a href='vscode-notebook-cell:/Users/marcofking/Documents/GitHub/MockVsActualHospitalCare/code/HMM_surface_predictions.ipynb#X10sZmlsZQ%3D%3D?line=4'>5</a>\u001b[0m new_lengths \u001b[39m=\u001b[39m [\u001b[39mlen\u001b[39m(seq) \u001b[39mfor\u001b[39;00m seq \u001b[39min\u001b[39;00m new_sequences]\n",
            "\u001b[1;32m/Users/marcofking/Documents/GitHub/MockVsActualHospitalCare/code/HMM_surface_predictions.ipynb Cell 9\u001b[0m in \u001b[0;36m<listcomp>\u001b[0;34m(.0)\u001b[0m\n\u001b[1;32m      <a href='vscode-notebook-cell:/Users/marcofking/Documents/GitHub/MockVsActualHospitalCare/code/HMM_surface_predictions.ipynb#X10sZmlsZQ%3D%3D?line=0'>1</a>\u001b[0m \u001b[39m# Generate new sequences with the same lengths as the sequences in the test data\u001b[39;00m\n\u001b[0;32m----> <a href='vscode-notebook-cell:/Users/marcofking/Documents/GitHub/MockVsActualHospitalCare/code/HMM_surface_predictions.ipynb#X10sZmlsZQ%3D%3D?line=1'>2</a>\u001b[0m new_sequences \u001b[39m=\u001b[39m [model\u001b[39m.\u001b[39;49msample(\u001b[39mlen\u001b[39;49m(seq))[\u001b[39m1\u001b[39m] \u001b[39mfor\u001b[39;00m seq \u001b[39min\u001b[39;00m sequences_test]\n\u001b[1;32m      <a href='vscode-notebook-cell:/Users/marcofking/Documents/GitHub/MockVsActualHospitalCare/code/HMM_surface_predictions.ipynb#X10sZmlsZQ%3D%3D?line=3'>4</a>\u001b[0m \u001b[39m# Calculate the lengths of the new sequences\u001b[39;00m\n\u001b[1;32m      <a href='vscode-notebook-cell:/Users/marcofking/Documents/GitHub/MockVsActualHospitalCare/code/HMM_surface_predictions.ipynb#X10sZmlsZQ%3D%3D?line=4'>5</a>\u001b[0m new_lengths \u001b[39m=\u001b[39m [\u001b[39mlen\u001b[39m(seq) \u001b[39mfor\u001b[39;00m seq \u001b[39min\u001b[39;00m new_sequences]\n",
            "File \u001b[0;32m/opt/homebrew/Caskroom/miniforge/base/envs/tensorflow/lib/python3.9/site-packages/hmmlearn/base.py:416\u001b[0m, in \u001b[0;36m_AbstractHMM.sample\u001b[0;34m(self, n_samples, random_state, currstate)\u001b[0m\n\u001b[1;32m    387\u001b[0m \u001b[39m\"\"\"\u001b[39;00m\n\u001b[1;32m    388\u001b[0m \u001b[39mGenerate random samples from the model.\u001b[39;00m\n\u001b[1;32m    389\u001b[0m \n\u001b[0;32m   (...)\u001b[0m\n\u001b[1;32m    413\u001b[0m \u001b[39m    X, Z = model.sample(n_samples=10, currstate=Z[-1])\u001b[39;00m\n\u001b[1;32m    414\u001b[0m \u001b[39m\"\"\"\u001b[39;00m\n\u001b[1;32m    415\u001b[0m check_is_fitted(\u001b[39mself\u001b[39m, \u001b[39m\"\u001b[39m\u001b[39mstartprob_\u001b[39m\u001b[39m\"\u001b[39m)\n\u001b[0;32m--> 416\u001b[0m \u001b[39mself\u001b[39;49m\u001b[39m.\u001b[39;49m_check()\n\u001b[1;32m    418\u001b[0m \u001b[39mif\u001b[39;00m random_state \u001b[39mis\u001b[39;00m \u001b[39mNone\u001b[39;00m:\n\u001b[1;32m    419\u001b[0m     random_state \u001b[39m=\u001b[39m \u001b[39mself\u001b[39m\u001b[39m.\u001b[39mrandom_state\n",
            "File \u001b[0;32m/opt/homebrew/Caskroom/miniforge/base/envs/tensorflow/lib/python3.9/site-packages/hmmlearn/hmm.py:903\u001b[0m, in \u001b[0;36mMultinomialHMM._check\u001b[0;34m(self)\u001b[0m\n\u001b[1;32m    902\u001b[0m \u001b[39mdef\u001b[39;00m \u001b[39m_check\u001b[39m(\u001b[39mself\u001b[39m):\n\u001b[0;32m--> 903\u001b[0m     \u001b[39msuper\u001b[39;49m()\u001b[39m.\u001b[39;49m_check()\n\u001b[1;32m    904\u001b[0m     \u001b[39mself\u001b[39m\u001b[39m.\u001b[39memissionprob_ \u001b[39m=\u001b[39m np\u001b[39m.\u001b[39matleast_2d(\u001b[39mself\u001b[39m\u001b[39m.\u001b[39memissionprob_)\n\u001b[1;32m    905\u001b[0m     n_features \u001b[39m=\u001b[39m \u001b[39mgetattr\u001b[39m(\u001b[39mself\u001b[39m, \u001b[39m\"\u001b[39m\u001b[39mn_features\u001b[39m\u001b[39m\"\u001b[39m, \u001b[39mself\u001b[39m\u001b[39m.\u001b[39memissionprob_\u001b[39m.\u001b[39mshape[\u001b[39m1\u001b[39m])\n",
            "File \u001b[0;32m/opt/homebrew/Caskroom/miniforge/base/envs/tensorflow/lib/python3.9/site-packages/hmmlearn/base.py:949\u001b[0m, in \u001b[0;36mBaseHMM._check\u001b[0;34m(self)\u001b[0m\n\u001b[1;32m    947\u001b[0m \u001b[39mif\u001b[39;00m \u001b[39mlen\u001b[39m(\u001b[39mself\u001b[39m\u001b[39m.\u001b[39mstartprob_) \u001b[39m!=\u001b[39m \u001b[39mself\u001b[39m\u001b[39m.\u001b[39mn_components:\n\u001b[1;32m    948\u001b[0m     \u001b[39mraise\u001b[39;00m \u001b[39mValueError\u001b[39;00m(\u001b[39m\"\u001b[39m\u001b[39mstartprob_ must have length n_components\u001b[39m\u001b[39m\"\u001b[39m)\n\u001b[0;32m--> 949\u001b[0m \u001b[39mself\u001b[39;49m\u001b[39m.\u001b[39;49m_check_sum_1(\u001b[39m\"\u001b[39;49m\u001b[39mstartprob_\u001b[39;49m\u001b[39m\"\u001b[39;49m)\n\u001b[1;32m    951\u001b[0m \u001b[39mself\u001b[39m\u001b[39m.\u001b[39mtransmat_ \u001b[39m=\u001b[39m np\u001b[39m.\u001b[39masarray(\u001b[39mself\u001b[39m\u001b[39m.\u001b[39mtransmat_)\n\u001b[1;32m    952\u001b[0m \u001b[39mif\u001b[39;00m \u001b[39mself\u001b[39m\u001b[39m.\u001b[39mtransmat_\u001b[39m.\u001b[39mshape \u001b[39m!=\u001b[39m (\u001b[39mself\u001b[39m\u001b[39m.\u001b[39mn_components, \u001b[39mself\u001b[39m\u001b[39m.\u001b[39mn_components):\n",
            "File \u001b[0;32m/opt/homebrew/Caskroom/miniforge/base/envs/tensorflow/lib/python3.9/site-packages/hmmlearn/base.py:931\u001b[0m, in \u001b[0;36mBaseHMM._check_sum_1\u001b[0;34m(self, name)\u001b[0m\n\u001b[1;32m    929\u001b[0m s \u001b[39m=\u001b[39m \u001b[39mgetattr\u001b[39m(\u001b[39mself\u001b[39m, name)\u001b[39m.\u001b[39msum(axis\u001b[39m=\u001b[39m\u001b[39m-\u001b[39m\u001b[39m1\u001b[39m)\n\u001b[1;32m    930\u001b[0m \u001b[39mif\u001b[39;00m \u001b[39mnot\u001b[39;00m np\u001b[39m.\u001b[39mallclose(s, \u001b[39m1\u001b[39m):\n\u001b[0;32m--> 931\u001b[0m     \u001b[39mraise\u001b[39;00m \u001b[39mValueError\u001b[39;00m(\n\u001b[1;32m    932\u001b[0m         \u001b[39mf\u001b[39m\u001b[39m\"\u001b[39m\u001b[39m{\u001b[39;00mname\u001b[39m}\u001b[39;00m\u001b[39m must sum to 1 (got \u001b[39m\u001b[39m{\u001b[39;00ms\u001b[39m:\u001b[39;00m\u001b[39m.4f\u001b[39m\u001b[39m}\u001b[39;00m\u001b[39m)\u001b[39m\u001b[39m\"\u001b[39m \u001b[39mif\u001b[39;00m s\u001b[39m.\u001b[39mndim \u001b[39m==\u001b[39m \u001b[39m0\u001b[39m \u001b[39melse\u001b[39;00m\n\u001b[1;32m    933\u001b[0m         \u001b[39mf\u001b[39m\u001b[39m\"\u001b[39m\u001b[39m{\u001b[39;00mname\u001b[39m}\u001b[39;00m\u001b[39m rows must sum to 1 (got \u001b[39m\u001b[39m{\u001b[39;00ms\u001b[39m}\u001b[39;00m\u001b[39m)\u001b[39m\u001b[39m\"\u001b[39m \u001b[39mif\u001b[39;00m s\u001b[39m.\u001b[39mndim \u001b[39m==\u001b[39m \u001b[39m1\u001b[39m \u001b[39melse\u001b[39;00m\n\u001b[1;32m    934\u001b[0m         \u001b[39m\"\u001b[39m\u001b[39mExpected 1D or 2D array\u001b[39m\u001b[39m\"\u001b[39m)\n",
            "\u001b[0;31mValueError\u001b[0m: startprob_ must sum to 1 (got nan)"
          ]
        }
      ],
      "source": [
        "# Generate new sequences with the same lengths as the sequences in the test data\n",
        "new_sequences = [model.sample(len(seq))[1] for seq in sequences_test]\n",
        "\n",
        "# Calculate the lengths of the new sequences\n",
        "new_lengths = [len(seq) for seq in new_sequences]\n",
        "\n",
        "# Calculate the lengths of the sequences in the test data\n",
        "test_lengths = [len(seq) for seq in sequences_test]\n",
        "\n",
        "# Calculate the difference between the new lengths and the test lengths\n",
        "length_difference = np.array(new_lengths) - np.array(test_lengths)\n",
        "\n",
        "print(length_difference)\n"
      ]
    },
    {
      "cell_type": "markdown",
      "metadata": {
        "id": "58Dz9_XwGILj"
      },
      "source": [
        "## Pomegranate"
      ]
    },
    {
      "cell_type": "code",
      "execution_count": null,
      "metadata": {
        "id": "Qon9aio4GILj",
        "outputId": "19c1a3b3-a607-408c-9a78-5e5d75710b9d"
      },
      "outputs": [
        {
          "ename": "NameError",
          "evalue": "name 'sequences' is not defined",
          "output_type": "error",
          "traceback": [
            "\u001b[0;31m---------------------------------------------------------------------------\u001b[0m",
            "\u001b[0;31mNameError\u001b[0m                                 Traceback (most recent call last)",
            "\u001b[1;32m/Users/marcofking/Documents/GitHub/MockVsActualHospitalCare/code/HMM_surface_predictions.ipynb Cell 11\u001b[0m in \u001b[0;36m<cell line: 1>\u001b[0;34m()\u001b[0m\n\u001b[0;32m----> <a href='vscode-notebook-cell:/Users/marcofking/Documents/GitHub/MockVsActualHospitalCare/code/HMM_surface_predictions.ipynb#X13sZmlsZQ%3D%3D?line=0'>1</a>\u001b[0m sequences\u001b[39m.\u001b[39mvalues\n",
            "\u001b[0;31mNameError\u001b[0m: name 'sequences' is not defined"
          ]
        }
      ],
      "source": [
        "sequences.values"
      ]
    },
    {
      "cell_type": "code",
      "execution_count": 10,
      "metadata": {
        "id": "yUo4gIEsGILk",
        "outputId": "e29cdb96-04d8-4149-b1a8-e2fccfe4531e",
        "colab": {
          "base_uri": "https://localhost:8080/",
          "height": 368
        }
      },
      "outputs": [
        {
          "output_type": "error",
          "ename": "ImportError",
          "evalue": "ignored",
          "traceback": [
            "\u001b[0;31m---------------------------------------------------------------------------\u001b[0m",
            "\u001b[0;31mImportError\u001b[0m                               Traceback (most recent call last)",
            "\u001b[0;32m<ipython-input-10-60e0339b3f7f>\u001b[0m in \u001b[0;36m<cell line: 1>\u001b[0;34m()\u001b[0m\n\u001b[0;32m----> 1\u001b[0;31m \u001b[0;32mfrom\u001b[0m \u001b[0mpomegranate\u001b[0m \u001b[0;32mimport\u001b[0m \u001b[0mHiddenMarkovModel\u001b[0m\u001b[0;34m,\u001b[0m \u001b[0mDiscreteDistribution\u001b[0m\u001b[0;34m\u001b[0m\u001b[0;34m\u001b[0m\u001b[0m\n\u001b[0m\u001b[1;32m      2\u001b[0m \u001b[0;32mimport\u001b[0m \u001b[0mnumpy\u001b[0m \u001b[0;32mas\u001b[0m \u001b[0mnp\u001b[0m\u001b[0;34m\u001b[0m\u001b[0;34m\u001b[0m\u001b[0m\n\u001b[1;32m      3\u001b[0m \u001b[0;32mfrom\u001b[0m \u001b[0msklearn\u001b[0m\u001b[0;34m.\u001b[0m\u001b[0mmodel_selection\u001b[0m \u001b[0;32mimport\u001b[0m \u001b[0mtrain_test_split\u001b[0m\u001b[0;34m\u001b[0m\u001b[0;34m\u001b[0m\u001b[0m\n\u001b[1;32m      4\u001b[0m \u001b[0;32mfrom\u001b[0m \u001b[0msklearn\u001b[0m\u001b[0;34m.\u001b[0m\u001b[0mpreprocessing\u001b[0m \u001b[0;32mimport\u001b[0m \u001b[0mLabelEncoder\u001b[0m\u001b[0;34m\u001b[0m\u001b[0;34m\u001b[0m\u001b[0m\n\u001b[1;32m      5\u001b[0m \u001b[0;34m\u001b[0m\u001b[0m\n",
            "\u001b[0;31mImportError\u001b[0m: cannot import name 'HiddenMarkovModel' from 'pomegranate' (/usr/local/lib/python3.10/dist-packages/pomegranate/__init__.py)",
            "",
            "\u001b[0;31m---------------------------------------------------------------------------\u001b[0;32m\nNOTE: If your import is failing due to a missing package, you can\nmanually install dependencies using either !pip or !apt.\n\nTo view examples of installing some common dependencies, click the\n\"Open Examples\" button below.\n\u001b[0;31m---------------------------------------------------------------------------\u001b[0m\n"
          ],
          "errorDetails": {
            "actions": [
              {
                "action": "open_url",
                "actionText": "Open Examples",
                "url": "/notebooks/snippets/importing_libraries.ipynb"
              }
            ]
          }
        }
      ],
      "source": [
        "from pomegranate import HiddenMarkovModel, DiscreteDistribution\n",
        "import numpy as np\n",
        "from sklearn.model_selection import train_test_split\n",
        "from sklearn.preprocessing import LabelEncoder\n",
        "\n",
        "# Fit a LabelEncoder for the sequences and hidden states\n",
        "sequence_encoder = LabelEncoder()\n",
        "sequence_encoder.fit(np.hstack(sequences.values))\n",
        "\n",
        "hidden_state_encoder = LabelEncoder()\n",
        "hidden_state_encoder.fit(np.hstack(hidden_states.values))\n",
        "\n",
        "# Transform the sequences and hidden states to integers\n",
        "sequences = sequences.apply(sequence_encoder.transform)\n",
        "hidden_states = hidden_states.apply(hidden_state_encoder.transform)\n",
        "\n",
        "# Split the sequences into a training set and a test set\n",
        "sequences_train, sequences_test, hidden_states_train, hidden_states_test = train_test_split(\n",
        "    sequences, hidden_states, test_size=0.1, random_state=42)\n",
        "\n",
        "sequences_train = sequences_train.tolist()\n",
        "hidden_states_train = hidden_states_train.tolist()\n",
        "\n",
        "# Prepare the data for the HMM\n",
        "X = np.concatenate(sequences_train).reshape(-1, 1)\n",
        "lengths = list(map(len, sequences_train))\n",
        "\n",
        "# Create and train a Multivariate HMM\n",
        "model = HiddenMarkovModel.from_samples(DiscreteDistribution,\n",
        "                                       n_components=len(hidden_state_encoder.classes_),\n",
        "                                       X=X,\n",
        "                                       labels=hidden_states_train,\n",
        "                                       algorithm='baum-welch',\n",
        "                                       verbose=False,\n",
        "                                       state_names=hidden_state_encoder.classes_.tolist(),\n",
        "                                       n_jobs=-1)\n",
        "\n",
        "# Now you can predict a new sequence\n",
        "new_sequence = model.sample(length=10)  # Change 10 to the desired sequence length\n",
        "\n",
        "# The new sequence is an array of integers, so we use the inverse_transform method to convert it back to surface names\n",
        "new_sequence_surfaces = sequence_encoder.inverse_transform(new_sequence)\n",
        "\n",
        "print(new_sequence_surfaces)\n"
      ]
    },
    {
      "cell_type": "code",
      "execution_count": null,
      "metadata": {
        "id": "XxiISplQGILk",
        "outputId": "1d3e6ba2-6af8-4e28-d171-2a90549af195"
      },
      "outputs": [
        {
          "name": "stdout",
          "output_type": "stream",
          "text": [
            "['/Users/marcofking/Documents/GitHub/MockVsActualHospitalCare/code', '/opt/homebrew/Caskroom/miniforge/base/envs/tensorflow/lib/python39.zip', '/opt/homebrew/Caskroom/miniforge/base/envs/tensorflow/lib/python3.9', '/opt/homebrew/Caskroom/miniforge/base/envs/tensorflow/lib/python3.9/lib-dynload', '', '/opt/homebrew/Caskroom/miniforge/base/envs/tensorflow/lib/python3.9/site-packages']\n"
          ]
        }
      ],
      "source": [
        "import sys\n",
        "print(sys.path)\n"
      ]
    }
  ],
  "metadata": {
    "kernelspec": {
      "display_name": "Python 3.9 (tensorflow)",
      "language": "python",
      "name": "tensorflow"
    },
    "language_info": {
      "codemirror_mode": {
        "name": "ipython",
        "version": 3
      },
      "file_extension": ".py",
      "mimetype": "text/x-python",
      "name": "python",
      "nbconvert_exporter": "python",
      "pygments_lexer": "ipython3",
      "version": "3.9.12"
    },
    "orig_nbformat": 4,
    "colab": {
      "provenance": []
    }
  },
  "nbformat": 4,
  "nbformat_minor": 0
}