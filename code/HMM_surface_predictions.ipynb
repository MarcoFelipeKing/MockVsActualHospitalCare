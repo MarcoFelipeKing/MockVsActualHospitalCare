{
 "cells": [
  {
   "cell_type": "markdown",
   "metadata": {},
   "source": [
    "# HMM Surface Contacts"
   ]
  },
  {
   "cell_type": "code",
   "execution_count": 1,
   "metadata": {},
   "outputs": [],
   "source": [
    "import pandas as pd\n",
    "import numpy as np\n",
    "import matplotlib.pyplot as plt\n",
    "import seaborn as sns\n",
    "import os\n",
    "from sklearn.preprocessing import LabelEncoder\n",
    "from hmmlearn import hmm\n",
    "from sklearn.model_selection import train_test_split"
   ]
  },
  {
   "cell_type": "code",
   "execution_count": 1,
   "metadata": {},
   "outputs": [
    {
     "name": "stdout",
     "output_type": "stream",
     "text": [
      "Collecting hmmlearn\n",
      "  Downloading hmmlearn-0.3.0-cp39-cp39-macosx_10_9_universal2.whl (192 kB)\n",
      "\u001b[2K     \u001b[90m━━━━━━━━━━━━━━━━━━━━━━━━━━━━━━━━━━━━━━━\u001b[0m \u001b[32m192.9/192.9 KB\u001b[0m \u001b[31m4.0 MB/s\u001b[0m eta \u001b[36m0:00:00\u001b[0ma \u001b[36m0:00:01\u001b[0m\n",
      "\u001b[?25hRequirement already satisfied: numpy>=1.10 in /opt/homebrew/Caskroom/miniforge/base/envs/tensorflow/lib/python3.9/site-packages (from hmmlearn) (1.22.3)\n",
      "Requirement already satisfied: scipy>=0.19 in /opt/homebrew/Caskroom/miniforge/base/envs/tensorflow/lib/python3.9/site-packages (from hmmlearn) (1.7.3)\n",
      "Requirement already satisfied: scikit-learn!=0.22.0,>=0.16 in /opt/homebrew/Caskroom/miniforge/base/envs/tensorflow/lib/python3.9/site-packages (from hmmlearn) (1.0.2)\n",
      "Requirement already satisfied: joblib>=0.11 in /opt/homebrew/Caskroom/miniforge/base/envs/tensorflow/lib/python3.9/site-packages (from scikit-learn!=0.22.0,>=0.16->hmmlearn) (1.1.0)\n",
      "Requirement already satisfied: threadpoolctl>=2.0.0 in /opt/homebrew/Caskroom/miniforge/base/envs/tensorflow/lib/python3.9/site-packages (from scikit-learn!=0.22.0,>=0.16->hmmlearn) (2.2.0)\n",
      "Installing collected packages: hmmlearn\n",
      "Successfully installed hmmlearn-0.3.0\n",
      "\u001b[33mWARNING: You are using pip version 22.0.4; however, version 23.2.1 is available.\n",
      "You should consider upgrading via the '/opt/homebrew/Caskroom/miniforge/base/envs/tensorflow/bin/python -m pip install --upgrade pip' command.\u001b[0m\u001b[33m\n",
      "\u001b[0mNote: you may need to restart the kernel to use updated packages.\n"
     ]
    }
   ],
   "source": [
    "#pip install hmmlearn"
   ]
  },
  {
   "cell_type": "code",
   "execution_count": 10,
   "metadata": {},
   "outputs": [
    {
     "name": "stdout",
     "output_type": "stream",
     "text": [
      "1164\n"
     ]
    }
   ],
   "source": [
    "# import data from data\n",
    "\n",
    "df = pd.read_csv('../data/movsdf.rbind_orientationcorrected.csv')\n",
    "df.head()\n",
    "print(len(df))\n",
    "\n",
    "# remove any NAN values\n",
    "df = df.dropna()\n",
    "\n",
    "# filter only first 20 rows\n"
   ]
  },
  {
   "cell_type": "code",
   "execution_count": 11,
   "metadata": {},
   "outputs": [
    {
     "data": {
      "text/plain": [
       "ActivityID\n",
       "1     [HygieneArea, In, FarPatient, FarPatient, FarP...\n",
       "2     [HygieneArea, In, FarPatient, FarPatient, Pati...\n",
       "3     [In, Equipment, FarPatient, FarPatient, FarPat...\n",
       "4     [In, FarPatient, FarPatient, FarPatient, FarPa...\n",
       "5     [HygieneArea, In, FarPatient, FarPatient, Pati...\n",
       "                            ...                        \n",
       "58    [In, FarPatient, FarPatient, NearPatient, Equi...\n",
       "59    [In, FarPatient, FarPatient, Equipment, Equipm...\n",
       "60    [In, FarPatient, FarPatient, Equipment, Equipm...\n",
       "61    [In, FarPatient, Equipment, Equipment, NearPat...\n",
       "62    [In, FarPatient, FarPatient, FarPatient, Equip...\n",
       "Name: SurfaceCategories, Length: 62, dtype: object"
      ]
     },
     "execution_count": 11,
     "metadata": {},
     "output_type": "execute_result"
    }
   ],
   "source": [
    "\n",
    "# Create a new column combining 'CareType' and 'HCWType'\n",
    "df['HiddenState'] = df['CareType'] + \"_\" + df['HCWType']\n",
    "\n",
    "# Group by 'ActivityID' and create sequences\n",
    "sequences = df.groupby('ActivityID')['SurfaceCategories'].apply(list)\n",
    "hidden_states = df.groupby('ActivityID')['HiddenState'].apply(list)\n",
    "\n",
    "\n",
    "sequences"
   ]
  },
  {
   "cell_type": "code",
   "execution_count": 20,
   "metadata": {},
   "outputs": [
    {
     "ename": "KeyError",
     "evalue": "'sequence'",
     "output_type": "error",
     "traceback": [
      "\u001b[0;31m---------------------------------------------------------------------------\u001b[0m",
      "\u001b[0;31mKeyError\u001b[0m                                  Traceback (most recent call last)",
      "File \u001b[0;32m/opt/homebrew/Caskroom/miniforge/base/envs/tensorflow/lib/python3.9/site-packages/pandas/core/indexes/base.py:3361\u001b[0m, in \u001b[0;36mIndex.get_loc\u001b[0;34m(self, key, method, tolerance)\u001b[0m\n\u001b[1;32m   3360\u001b[0m \u001b[39mtry\u001b[39;00m:\n\u001b[0;32m-> 3361\u001b[0m     \u001b[39mreturn\u001b[39;00m \u001b[39mself\u001b[39;49m\u001b[39m.\u001b[39;49m_engine\u001b[39m.\u001b[39;49mget_loc(casted_key)\n\u001b[1;32m   3362\u001b[0m \u001b[39mexcept\u001b[39;00m \u001b[39mKeyError\u001b[39;00m \u001b[39mas\u001b[39;00m err:\n",
      "File \u001b[0;32m/opt/homebrew/Caskroom/miniforge/base/envs/tensorflow/lib/python3.9/site-packages/pandas/_libs/index.pyx:76\u001b[0m, in \u001b[0;36mpandas._libs.index.IndexEngine.get_loc\u001b[0;34m()\u001b[0m\n",
      "File \u001b[0;32mpandas/_libs/index_class_helper.pxi:105\u001b[0m, in \u001b[0;36mpandas._libs.index.Int64Engine._check_type\u001b[0;34m()\u001b[0m\n",
      "File \u001b[0;32mpandas/_libs/index_class_helper.pxi:105\u001b[0m, in \u001b[0;36mpandas._libs.index.Int64Engine._check_type\u001b[0;34m()\u001b[0m\n",
      "\u001b[0;31mKeyError\u001b[0m: 'sequence'",
      "\nThe above exception was the direct cause of the following exception:\n",
      "\u001b[0;31mKeyError\u001b[0m                                  Traceback (most recent call last)",
      "\u001b[1;32m/Users/marcofking/Documents/GitHub/MockVsActualHospitalCare/code/HMM_surface_predictions.ipynb Cell 6\u001b[0m in \u001b[0;36m<cell line: 11>\u001b[0;34m()\u001b[0m\n\u001b[1;32m      <a href='vscode-notebook-cell:/Users/marcofking/Documents/GitHub/MockVsActualHospitalCare/code/HMM_surface_predictions.ipynb#W6sZmlsZQ%3D%3D?line=6'>7</a>\u001b[0m \u001b[39mimport\u001b[39;00m \u001b[39mmatplotlib\u001b[39;00m\u001b[39m.\u001b[39;00m\u001b[39mpyplot\u001b[39;00m \u001b[39mas\u001b[39;00m \u001b[39mplt\u001b[39;00m\n\u001b[1;32m     <a href='vscode-notebook-cell:/Users/marcofking/Documents/GitHub/MockVsActualHospitalCare/code/HMM_surface_predictions.ipynb#W6sZmlsZQ%3D%3D?line=9'>10</a>\u001b[0m \u001b[39m# calculate length of each sequence\u001b[39;00m\n\u001b[0;32m---> <a href='vscode-notebook-cell:/Users/marcofking/Documents/GitHub/MockVsActualHospitalCare/code/HMM_surface_predictions.ipynb#W6sZmlsZQ%3D%3D?line=10'>11</a>\u001b[0m surface[\u001b[39m'\u001b[39m\u001b[39mlength\u001b[39m\u001b[39m'\u001b[39m] \u001b[39m=\u001b[39m sequences[\u001b[39m'\u001b[39;49m\u001b[39msequence\u001b[39;49m\u001b[39m'\u001b[39;49m]\u001b[39m.\u001b[39mstr\u001b[39m.\u001b[39mlen()\n\u001b[1;32m     <a href='vscode-notebook-cell:/Users/marcofking/Documents/GitHub/MockVsActualHospitalCare/code/HMM_surface_predictions.ipynb#W6sZmlsZQ%3D%3D?line=12'>13</a>\u001b[0m \u001b[39m# plot violin plot\u001b[39;00m\n\u001b[1;32m     <a href='vscode-notebook-cell:/Users/marcofking/Documents/GitHub/MockVsActualHospitalCare/code/HMM_surface_predictions.ipynb#W6sZmlsZQ%3D%3D?line=13'>14</a>\u001b[0m sns\u001b[39m.\u001b[39mviolinplot(x\u001b[39m=\u001b[39m\u001b[39m'\u001b[39m\u001b[39mlength\u001b[39m\u001b[39m'\u001b[39m, data\u001b[39m=\u001b[39msurface)\n",
      "File \u001b[0;32m/opt/homebrew/Caskroom/miniforge/base/envs/tensorflow/lib/python3.9/site-packages/pandas/core/series.py:942\u001b[0m, in \u001b[0;36mSeries.__getitem__\u001b[0;34m(self, key)\u001b[0m\n\u001b[1;32m    939\u001b[0m     \u001b[39mreturn\u001b[39;00m \u001b[39mself\u001b[39m\u001b[39m.\u001b[39m_values[key]\n\u001b[1;32m    941\u001b[0m \u001b[39melif\u001b[39;00m key_is_scalar:\n\u001b[0;32m--> 942\u001b[0m     \u001b[39mreturn\u001b[39;00m \u001b[39mself\u001b[39;49m\u001b[39m.\u001b[39;49m_get_value(key)\n\u001b[1;32m    944\u001b[0m \u001b[39mif\u001b[39;00m is_hashable(key):\n\u001b[1;32m    945\u001b[0m     \u001b[39m# Otherwise index.get_value will raise InvalidIndexError\u001b[39;00m\n\u001b[1;32m    946\u001b[0m     \u001b[39mtry\u001b[39;00m:\n\u001b[1;32m    947\u001b[0m         \u001b[39m# For labels that don't resolve as scalars like tuples and frozensets\u001b[39;00m\n",
      "File \u001b[0;32m/opt/homebrew/Caskroom/miniforge/base/envs/tensorflow/lib/python3.9/site-packages/pandas/core/series.py:1051\u001b[0m, in \u001b[0;36mSeries._get_value\u001b[0;34m(self, label, takeable)\u001b[0m\n\u001b[1;32m   1048\u001b[0m     \u001b[39mreturn\u001b[39;00m \u001b[39mself\u001b[39m\u001b[39m.\u001b[39m_values[label]\n\u001b[1;32m   1050\u001b[0m \u001b[39m# Similar to Index.get_value, but we do not fall back to positional\u001b[39;00m\n\u001b[0;32m-> 1051\u001b[0m loc \u001b[39m=\u001b[39m \u001b[39mself\u001b[39;49m\u001b[39m.\u001b[39;49mindex\u001b[39m.\u001b[39;49mget_loc(label)\n\u001b[1;32m   1052\u001b[0m \u001b[39mreturn\u001b[39;00m \u001b[39mself\u001b[39m\u001b[39m.\u001b[39mindex\u001b[39m.\u001b[39m_get_values_for_loc(\u001b[39mself\u001b[39m, loc, label)\n",
      "File \u001b[0;32m/opt/homebrew/Caskroom/miniforge/base/envs/tensorflow/lib/python3.9/site-packages/pandas/core/indexes/base.py:3363\u001b[0m, in \u001b[0;36mIndex.get_loc\u001b[0;34m(self, key, method, tolerance)\u001b[0m\n\u001b[1;32m   3361\u001b[0m         \u001b[39mreturn\u001b[39;00m \u001b[39mself\u001b[39m\u001b[39m.\u001b[39m_engine\u001b[39m.\u001b[39mget_loc(casted_key)\n\u001b[1;32m   3362\u001b[0m     \u001b[39mexcept\u001b[39;00m \u001b[39mKeyError\u001b[39;00m \u001b[39mas\u001b[39;00m err:\n\u001b[0;32m-> 3363\u001b[0m         \u001b[39mraise\u001b[39;00m \u001b[39mKeyError\u001b[39;00m(key) \u001b[39mfrom\u001b[39;00m \u001b[39merr\u001b[39;00m\n\u001b[1;32m   3365\u001b[0m \u001b[39mif\u001b[39;00m is_scalar(key) \u001b[39mand\u001b[39;00m isna(key) \u001b[39mand\u001b[39;00m \u001b[39mnot\u001b[39;00m \u001b[39mself\u001b[39m\u001b[39m.\u001b[39mhasnans:\n\u001b[1;32m   3366\u001b[0m     \u001b[39mraise\u001b[39;00m \u001b[39mKeyError\u001b[39;00m(key)\n",
      "\u001b[0;31mKeyError\u001b[0m: 'sequence'"
     ]
    }
   ],
   "source": [
    "# calcualte summary statistics for the length of the surface sequences and plot a violin plot using seaborn\n",
    "# Input: surface sequences\n",
    "# Output: violin plot of surface sequence lengths\n",
    "\n",
    "import pandas as pd\n",
    "import seaborn as sns\n",
    "import matplotlib.pyplot as plt\n",
    "\n",
    "\n",
    "# calculate length of each sequence\n",
    "surface['length'] = sequences['sequence'].str.len()\n",
    "\n",
    "# plot violin plot\n",
    "sns.violinplot(x='length', data=surface)\n",
    "plt.xlabel('Length of surface sequence')\n",
    "plt.ylabel('Density')\n",
    "plt.title('Length of surface sequences')\n",
    "plt.show()\n"
   ]
  },
  {
   "cell_type": "code",
   "execution_count": 75,
   "metadata": {},
   "outputs": [
    {
     "name": "stderr",
     "output_type": "stream",
     "text": [
      "MultinomialHMM has undergone major changes. The previous version was implementing a CategoricalHMM (a special case of MultinomialHMM). This new implementation follows the standard definition for a Multinomial distribution (e.g. as in https://en.wikipedia.org/wiki/Multinomial_distribution). See these issues for details:\n",
      "https://github.com/hmmlearn/hmmlearn/issues/335\n",
      "https://github.com/hmmlearn/hmmlearn/issues/340\n"
     ]
    },
    {
     "name": "stdout",
     "output_type": "stream",
     "text": [
      "20 6 20 6\n",
      "[nan nan nan nan nan nan]\n",
      "[[nan nan nan nan nan nan]\n",
      " [nan nan nan nan nan nan]\n",
      " [nan nan nan nan nan nan]\n",
      " [nan nan nan nan nan nan]\n",
      " [nan nan nan nan nan nan]\n",
      " [nan nan nan nan nan nan]]\n"
     ]
    }
   ],
   "source": [
    "# Fit a LabelEncoder for the sequences and hidden states\n",
    "sequence_encoder = LabelEncoder()\n",
    "sequence_encoder.fit(np.hstack(sequences.values))\n",
    "\n",
    "hidden_state_encoder = LabelEncoder()\n",
    "hidden_state_encoder.fit(np.hstack(hidden_states.values))\n",
    "\n",
    "# Transform the sequences and hidden states to integers\n",
    "sequences = sequences.apply(sequence_encoder.transform)\n",
    "hidden_states = hidden_states.apply(hidden_state_encoder.transform)\n",
    "\n",
    "# Split the sequences into a training set and a test set\n",
    "sequences_train, sequences_test, hidden_states_train, hidden_states_test = train_test_split(\n",
    "    sequences, hidden_states, test_size=0.2, random_state=42)\n",
    "\n",
    "print(len(sequences_train), len(sequences_test), len(hidden_states_train), len(hidden_states_test))\n",
    "\n",
    "sequences_train=sequences_train.tolist()\n",
    "hidden_states_train=hidden_states_train.tolist()\n",
    "sequences_test=sequences_test.tolist()\n",
    "\n",
    "# Create a Multinomial HMM\n",
    "model = hmm.MultinomialHMM(n_components=len(hidden_state_encoder.classes_))\n",
    "\n",
    "# Prepare the data for the HMM\n",
    "X = np.concatenate(sequences_train)\n",
    "lengths = list(map(len, sequences_train))\n",
    "\n",
    "# Fit the HMM\n",
    "model.fit(X.reshape(-1, 1), lengths=lengths)\n",
    "\n",
    "model\n",
    "print(model.startprob_)\n",
    "print(model.transmat_)"
   ]
  },
  {
   "cell_type": "code",
   "execution_count": 76,
   "metadata": {},
   "outputs": [
    {
     "ename": "ValueError",
     "evalue": "startprob_ must sum to 1 (got nan)",
     "output_type": "error",
     "traceback": [
      "\u001b[0;31m---------------------------------------------------------------------------\u001b[0m",
      "\u001b[0;31mValueError\u001b[0m                                Traceback (most recent call last)",
      "\u001b[1;32m/Users/marcofking/Documents/GitHub/MockVsActualHospitalCare/code/HMM_surface_predictions.ipynb Cell 8\u001b[0m in \u001b[0;36m<cell line: 2>\u001b[0;34m()\u001b[0m\n\u001b[1;32m      <a href='vscode-notebook-cell:/Users/marcofking/Documents/GitHub/MockVsActualHospitalCare/code/HMM_surface_predictions.ipynb#X11sZmlsZQ%3D%3D?line=0'>1</a>\u001b[0m \u001b[39m# Generate a new sequence of surface contacts\u001b[39;00m\n\u001b[0;32m----> <a href='vscode-notebook-cell:/Users/marcofking/Documents/GitHub/MockVsActualHospitalCare/code/HMM_surface_predictions.ipynb#X11sZmlsZQ%3D%3D?line=1'>2</a>\u001b[0m _, new_sequence \u001b[39m=\u001b[39m model\u001b[39m.\u001b[39;49msample(\u001b[39m10\u001b[39;49m)  \u001b[39m# Change 10 to the desired sequence length\u001b[39;00m\n\u001b[1;32m      <a href='vscode-notebook-cell:/Users/marcofking/Documents/GitHub/MockVsActualHospitalCare/code/HMM_surface_predictions.ipynb#X11sZmlsZQ%3D%3D?line=3'>4</a>\u001b[0m \u001b[39m# The new sequence is an array of integers, so we use the inverse_transform method to convert it back to surface names\u001b[39;00m\n\u001b[1;32m      <a href='vscode-notebook-cell:/Users/marcofking/Documents/GitHub/MockVsActualHospitalCare/code/HMM_surface_predictions.ipynb#X11sZmlsZQ%3D%3D?line=4'>5</a>\u001b[0m new_sequence_surfaces \u001b[39m=\u001b[39m sequence_encoder\u001b[39m.\u001b[39minverse_transform(new_sequence\u001b[39m.\u001b[39mreshape(\u001b[39m-\u001b[39m\u001b[39m1\u001b[39m))\n",
      "File \u001b[0;32m/opt/homebrew/Caskroom/miniforge/base/envs/tensorflow/lib/python3.9/site-packages/hmmlearn/base.py:416\u001b[0m, in \u001b[0;36m_AbstractHMM.sample\u001b[0;34m(self, n_samples, random_state, currstate)\u001b[0m\n\u001b[1;32m    387\u001b[0m \u001b[39m\"\"\"\u001b[39;00m\n\u001b[1;32m    388\u001b[0m \u001b[39mGenerate random samples from the model.\u001b[39;00m\n\u001b[1;32m    389\u001b[0m \n\u001b[0;32m   (...)\u001b[0m\n\u001b[1;32m    413\u001b[0m \u001b[39m    X, Z = model.sample(n_samples=10, currstate=Z[-1])\u001b[39;00m\n\u001b[1;32m    414\u001b[0m \u001b[39m\"\"\"\u001b[39;00m\n\u001b[1;32m    415\u001b[0m check_is_fitted(\u001b[39mself\u001b[39m, \u001b[39m\"\u001b[39m\u001b[39mstartprob_\u001b[39m\u001b[39m\"\u001b[39m)\n\u001b[0;32m--> 416\u001b[0m \u001b[39mself\u001b[39;49m\u001b[39m.\u001b[39;49m_check()\n\u001b[1;32m    418\u001b[0m \u001b[39mif\u001b[39;00m random_state \u001b[39mis\u001b[39;00m \u001b[39mNone\u001b[39;00m:\n\u001b[1;32m    419\u001b[0m     random_state \u001b[39m=\u001b[39m \u001b[39mself\u001b[39m\u001b[39m.\u001b[39mrandom_state\n",
      "File \u001b[0;32m/opt/homebrew/Caskroom/miniforge/base/envs/tensorflow/lib/python3.9/site-packages/hmmlearn/hmm.py:903\u001b[0m, in \u001b[0;36mMultinomialHMM._check\u001b[0;34m(self)\u001b[0m\n\u001b[1;32m    902\u001b[0m \u001b[39mdef\u001b[39;00m \u001b[39m_check\u001b[39m(\u001b[39mself\u001b[39m):\n\u001b[0;32m--> 903\u001b[0m     \u001b[39msuper\u001b[39;49m()\u001b[39m.\u001b[39;49m_check()\n\u001b[1;32m    904\u001b[0m     \u001b[39mself\u001b[39m\u001b[39m.\u001b[39memissionprob_ \u001b[39m=\u001b[39m np\u001b[39m.\u001b[39matleast_2d(\u001b[39mself\u001b[39m\u001b[39m.\u001b[39memissionprob_)\n\u001b[1;32m    905\u001b[0m     n_features \u001b[39m=\u001b[39m \u001b[39mgetattr\u001b[39m(\u001b[39mself\u001b[39m, \u001b[39m\"\u001b[39m\u001b[39mn_features\u001b[39m\u001b[39m\"\u001b[39m, \u001b[39mself\u001b[39m\u001b[39m.\u001b[39memissionprob_\u001b[39m.\u001b[39mshape[\u001b[39m1\u001b[39m])\n",
      "File \u001b[0;32m/opt/homebrew/Caskroom/miniforge/base/envs/tensorflow/lib/python3.9/site-packages/hmmlearn/base.py:949\u001b[0m, in \u001b[0;36mBaseHMM._check\u001b[0;34m(self)\u001b[0m\n\u001b[1;32m    947\u001b[0m \u001b[39mif\u001b[39;00m \u001b[39mlen\u001b[39m(\u001b[39mself\u001b[39m\u001b[39m.\u001b[39mstartprob_) \u001b[39m!=\u001b[39m \u001b[39mself\u001b[39m\u001b[39m.\u001b[39mn_components:\n\u001b[1;32m    948\u001b[0m     \u001b[39mraise\u001b[39;00m \u001b[39mValueError\u001b[39;00m(\u001b[39m\"\u001b[39m\u001b[39mstartprob_ must have length n_components\u001b[39m\u001b[39m\"\u001b[39m)\n\u001b[0;32m--> 949\u001b[0m \u001b[39mself\u001b[39;49m\u001b[39m.\u001b[39;49m_check_sum_1(\u001b[39m\"\u001b[39;49m\u001b[39mstartprob_\u001b[39;49m\u001b[39m\"\u001b[39;49m)\n\u001b[1;32m    951\u001b[0m \u001b[39mself\u001b[39m\u001b[39m.\u001b[39mtransmat_ \u001b[39m=\u001b[39m np\u001b[39m.\u001b[39masarray(\u001b[39mself\u001b[39m\u001b[39m.\u001b[39mtransmat_)\n\u001b[1;32m    952\u001b[0m \u001b[39mif\u001b[39;00m \u001b[39mself\u001b[39m\u001b[39m.\u001b[39mtransmat_\u001b[39m.\u001b[39mshape \u001b[39m!=\u001b[39m (\u001b[39mself\u001b[39m\u001b[39m.\u001b[39mn_components, \u001b[39mself\u001b[39m\u001b[39m.\u001b[39mn_components):\n",
      "File \u001b[0;32m/opt/homebrew/Caskroom/miniforge/base/envs/tensorflow/lib/python3.9/site-packages/hmmlearn/base.py:931\u001b[0m, in \u001b[0;36mBaseHMM._check_sum_1\u001b[0;34m(self, name)\u001b[0m\n\u001b[1;32m    929\u001b[0m s \u001b[39m=\u001b[39m \u001b[39mgetattr\u001b[39m(\u001b[39mself\u001b[39m, name)\u001b[39m.\u001b[39msum(axis\u001b[39m=\u001b[39m\u001b[39m-\u001b[39m\u001b[39m1\u001b[39m)\n\u001b[1;32m    930\u001b[0m \u001b[39mif\u001b[39;00m \u001b[39mnot\u001b[39;00m np\u001b[39m.\u001b[39mallclose(s, \u001b[39m1\u001b[39m):\n\u001b[0;32m--> 931\u001b[0m     \u001b[39mraise\u001b[39;00m \u001b[39mValueError\u001b[39;00m(\n\u001b[1;32m    932\u001b[0m         \u001b[39mf\u001b[39m\u001b[39m\"\u001b[39m\u001b[39m{\u001b[39;00mname\u001b[39m}\u001b[39;00m\u001b[39m must sum to 1 (got \u001b[39m\u001b[39m{\u001b[39;00ms\u001b[39m:\u001b[39;00m\u001b[39m.4f\u001b[39m\u001b[39m}\u001b[39;00m\u001b[39m)\u001b[39m\u001b[39m\"\u001b[39m \u001b[39mif\u001b[39;00m s\u001b[39m.\u001b[39mndim \u001b[39m==\u001b[39m \u001b[39m0\u001b[39m \u001b[39melse\u001b[39;00m\n\u001b[1;32m    933\u001b[0m         \u001b[39mf\u001b[39m\u001b[39m\"\u001b[39m\u001b[39m{\u001b[39;00mname\u001b[39m}\u001b[39;00m\u001b[39m rows must sum to 1 (got \u001b[39m\u001b[39m{\u001b[39;00ms\u001b[39m}\u001b[39;00m\u001b[39m)\u001b[39m\u001b[39m\"\u001b[39m \u001b[39mif\u001b[39;00m s\u001b[39m.\u001b[39mndim \u001b[39m==\u001b[39m \u001b[39m1\u001b[39m \u001b[39melse\u001b[39;00m\n\u001b[1;32m    934\u001b[0m         \u001b[39m\"\u001b[39m\u001b[39mExpected 1D or 2D array\u001b[39m\u001b[39m\"\u001b[39m)\n",
      "\u001b[0;31mValueError\u001b[0m: startprob_ must sum to 1 (got nan)"
     ]
    }
   ],
   "source": [
    "# Generate a new sequence of surface contacts\n",
    "_, new_sequence = model.sample(10)  # Change 10 to the desired sequence length\n",
    "\n",
    "# The new sequence is an array of integers, so we use the inverse_transform method to convert it back to surface names\n",
    "new_sequence_surfaces = sequence_encoder.inverse_transform(new_sequence.reshape(-1))\n",
    "\n",
    "print(new_sequence_surfaces)\n"
   ]
  },
  {
   "cell_type": "code",
   "execution_count": 31,
   "metadata": {},
   "outputs": [
    {
     "ename": "ValueError",
     "evalue": "startprob_ must sum to 1 (got nan)",
     "output_type": "error",
     "traceback": [
      "\u001b[0;31m---------------------------------------------------------------------------\u001b[0m",
      "\u001b[0;31mValueError\u001b[0m                                Traceback (most recent call last)",
      "\u001b[1;32m/Users/marcofking/Documents/GitHub/MockVsActualHospitalCare/code/HMM_surface_predictions.ipynb Cell 9\u001b[0m in \u001b[0;36m<cell line: 2>\u001b[0;34m()\u001b[0m\n\u001b[1;32m      <a href='vscode-notebook-cell:/Users/marcofking/Documents/GitHub/MockVsActualHospitalCare/code/HMM_surface_predictions.ipynb#X10sZmlsZQ%3D%3D?line=0'>1</a>\u001b[0m \u001b[39m# Generate new sequences with the same lengths as the sequences in the test data\u001b[39;00m\n\u001b[0;32m----> <a href='vscode-notebook-cell:/Users/marcofking/Documents/GitHub/MockVsActualHospitalCare/code/HMM_surface_predictions.ipynb#X10sZmlsZQ%3D%3D?line=1'>2</a>\u001b[0m new_sequences \u001b[39m=\u001b[39m [model\u001b[39m.\u001b[39msample(\u001b[39mlen\u001b[39m(seq))[\u001b[39m1\u001b[39m] \u001b[39mfor\u001b[39;00m seq \u001b[39min\u001b[39;00m sequences_test]\n\u001b[1;32m      <a href='vscode-notebook-cell:/Users/marcofking/Documents/GitHub/MockVsActualHospitalCare/code/HMM_surface_predictions.ipynb#X10sZmlsZQ%3D%3D?line=3'>4</a>\u001b[0m \u001b[39m# Calculate the lengths of the new sequences\u001b[39;00m\n\u001b[1;32m      <a href='vscode-notebook-cell:/Users/marcofking/Documents/GitHub/MockVsActualHospitalCare/code/HMM_surface_predictions.ipynb#X10sZmlsZQ%3D%3D?line=4'>5</a>\u001b[0m new_lengths \u001b[39m=\u001b[39m [\u001b[39mlen\u001b[39m(seq) \u001b[39mfor\u001b[39;00m seq \u001b[39min\u001b[39;00m new_sequences]\n",
      "\u001b[1;32m/Users/marcofking/Documents/GitHub/MockVsActualHospitalCare/code/HMM_surface_predictions.ipynb Cell 9\u001b[0m in \u001b[0;36m<listcomp>\u001b[0;34m(.0)\u001b[0m\n\u001b[1;32m      <a href='vscode-notebook-cell:/Users/marcofking/Documents/GitHub/MockVsActualHospitalCare/code/HMM_surface_predictions.ipynb#X10sZmlsZQ%3D%3D?line=0'>1</a>\u001b[0m \u001b[39m# Generate new sequences with the same lengths as the sequences in the test data\u001b[39;00m\n\u001b[0;32m----> <a href='vscode-notebook-cell:/Users/marcofking/Documents/GitHub/MockVsActualHospitalCare/code/HMM_surface_predictions.ipynb#X10sZmlsZQ%3D%3D?line=1'>2</a>\u001b[0m new_sequences \u001b[39m=\u001b[39m [model\u001b[39m.\u001b[39;49msample(\u001b[39mlen\u001b[39;49m(seq))[\u001b[39m1\u001b[39m] \u001b[39mfor\u001b[39;00m seq \u001b[39min\u001b[39;00m sequences_test]\n\u001b[1;32m      <a href='vscode-notebook-cell:/Users/marcofking/Documents/GitHub/MockVsActualHospitalCare/code/HMM_surface_predictions.ipynb#X10sZmlsZQ%3D%3D?line=3'>4</a>\u001b[0m \u001b[39m# Calculate the lengths of the new sequences\u001b[39;00m\n\u001b[1;32m      <a href='vscode-notebook-cell:/Users/marcofking/Documents/GitHub/MockVsActualHospitalCare/code/HMM_surface_predictions.ipynb#X10sZmlsZQ%3D%3D?line=4'>5</a>\u001b[0m new_lengths \u001b[39m=\u001b[39m [\u001b[39mlen\u001b[39m(seq) \u001b[39mfor\u001b[39;00m seq \u001b[39min\u001b[39;00m new_sequences]\n",
      "File \u001b[0;32m/opt/homebrew/Caskroom/miniforge/base/envs/tensorflow/lib/python3.9/site-packages/hmmlearn/base.py:416\u001b[0m, in \u001b[0;36m_AbstractHMM.sample\u001b[0;34m(self, n_samples, random_state, currstate)\u001b[0m\n\u001b[1;32m    387\u001b[0m \u001b[39m\"\"\"\u001b[39;00m\n\u001b[1;32m    388\u001b[0m \u001b[39mGenerate random samples from the model.\u001b[39;00m\n\u001b[1;32m    389\u001b[0m \n\u001b[0;32m   (...)\u001b[0m\n\u001b[1;32m    413\u001b[0m \u001b[39m    X, Z = model.sample(n_samples=10, currstate=Z[-1])\u001b[39;00m\n\u001b[1;32m    414\u001b[0m \u001b[39m\"\"\"\u001b[39;00m\n\u001b[1;32m    415\u001b[0m check_is_fitted(\u001b[39mself\u001b[39m, \u001b[39m\"\u001b[39m\u001b[39mstartprob_\u001b[39m\u001b[39m\"\u001b[39m)\n\u001b[0;32m--> 416\u001b[0m \u001b[39mself\u001b[39;49m\u001b[39m.\u001b[39;49m_check()\n\u001b[1;32m    418\u001b[0m \u001b[39mif\u001b[39;00m random_state \u001b[39mis\u001b[39;00m \u001b[39mNone\u001b[39;00m:\n\u001b[1;32m    419\u001b[0m     random_state \u001b[39m=\u001b[39m \u001b[39mself\u001b[39m\u001b[39m.\u001b[39mrandom_state\n",
      "File \u001b[0;32m/opt/homebrew/Caskroom/miniforge/base/envs/tensorflow/lib/python3.9/site-packages/hmmlearn/hmm.py:903\u001b[0m, in \u001b[0;36mMultinomialHMM._check\u001b[0;34m(self)\u001b[0m\n\u001b[1;32m    902\u001b[0m \u001b[39mdef\u001b[39;00m \u001b[39m_check\u001b[39m(\u001b[39mself\u001b[39m):\n\u001b[0;32m--> 903\u001b[0m     \u001b[39msuper\u001b[39;49m()\u001b[39m.\u001b[39;49m_check()\n\u001b[1;32m    904\u001b[0m     \u001b[39mself\u001b[39m\u001b[39m.\u001b[39memissionprob_ \u001b[39m=\u001b[39m np\u001b[39m.\u001b[39matleast_2d(\u001b[39mself\u001b[39m\u001b[39m.\u001b[39memissionprob_)\n\u001b[1;32m    905\u001b[0m     n_features \u001b[39m=\u001b[39m \u001b[39mgetattr\u001b[39m(\u001b[39mself\u001b[39m, \u001b[39m\"\u001b[39m\u001b[39mn_features\u001b[39m\u001b[39m\"\u001b[39m, \u001b[39mself\u001b[39m\u001b[39m.\u001b[39memissionprob_\u001b[39m.\u001b[39mshape[\u001b[39m1\u001b[39m])\n",
      "File \u001b[0;32m/opt/homebrew/Caskroom/miniforge/base/envs/tensorflow/lib/python3.9/site-packages/hmmlearn/base.py:949\u001b[0m, in \u001b[0;36mBaseHMM._check\u001b[0;34m(self)\u001b[0m\n\u001b[1;32m    947\u001b[0m \u001b[39mif\u001b[39;00m \u001b[39mlen\u001b[39m(\u001b[39mself\u001b[39m\u001b[39m.\u001b[39mstartprob_) \u001b[39m!=\u001b[39m \u001b[39mself\u001b[39m\u001b[39m.\u001b[39mn_components:\n\u001b[1;32m    948\u001b[0m     \u001b[39mraise\u001b[39;00m \u001b[39mValueError\u001b[39;00m(\u001b[39m\"\u001b[39m\u001b[39mstartprob_ must have length n_components\u001b[39m\u001b[39m\"\u001b[39m)\n\u001b[0;32m--> 949\u001b[0m \u001b[39mself\u001b[39;49m\u001b[39m.\u001b[39;49m_check_sum_1(\u001b[39m\"\u001b[39;49m\u001b[39mstartprob_\u001b[39;49m\u001b[39m\"\u001b[39;49m)\n\u001b[1;32m    951\u001b[0m \u001b[39mself\u001b[39m\u001b[39m.\u001b[39mtransmat_ \u001b[39m=\u001b[39m np\u001b[39m.\u001b[39masarray(\u001b[39mself\u001b[39m\u001b[39m.\u001b[39mtransmat_)\n\u001b[1;32m    952\u001b[0m \u001b[39mif\u001b[39;00m \u001b[39mself\u001b[39m\u001b[39m.\u001b[39mtransmat_\u001b[39m.\u001b[39mshape \u001b[39m!=\u001b[39m (\u001b[39mself\u001b[39m\u001b[39m.\u001b[39mn_components, \u001b[39mself\u001b[39m\u001b[39m.\u001b[39mn_components):\n",
      "File \u001b[0;32m/opt/homebrew/Caskroom/miniforge/base/envs/tensorflow/lib/python3.9/site-packages/hmmlearn/base.py:931\u001b[0m, in \u001b[0;36mBaseHMM._check_sum_1\u001b[0;34m(self, name)\u001b[0m\n\u001b[1;32m    929\u001b[0m s \u001b[39m=\u001b[39m \u001b[39mgetattr\u001b[39m(\u001b[39mself\u001b[39m, name)\u001b[39m.\u001b[39msum(axis\u001b[39m=\u001b[39m\u001b[39m-\u001b[39m\u001b[39m1\u001b[39m)\n\u001b[1;32m    930\u001b[0m \u001b[39mif\u001b[39;00m \u001b[39mnot\u001b[39;00m np\u001b[39m.\u001b[39mallclose(s, \u001b[39m1\u001b[39m):\n\u001b[0;32m--> 931\u001b[0m     \u001b[39mraise\u001b[39;00m \u001b[39mValueError\u001b[39;00m(\n\u001b[1;32m    932\u001b[0m         \u001b[39mf\u001b[39m\u001b[39m\"\u001b[39m\u001b[39m{\u001b[39;00mname\u001b[39m}\u001b[39;00m\u001b[39m must sum to 1 (got \u001b[39m\u001b[39m{\u001b[39;00ms\u001b[39m:\u001b[39;00m\u001b[39m.4f\u001b[39m\u001b[39m}\u001b[39;00m\u001b[39m)\u001b[39m\u001b[39m\"\u001b[39m \u001b[39mif\u001b[39;00m s\u001b[39m.\u001b[39mndim \u001b[39m==\u001b[39m \u001b[39m0\u001b[39m \u001b[39melse\u001b[39;00m\n\u001b[1;32m    933\u001b[0m         \u001b[39mf\u001b[39m\u001b[39m\"\u001b[39m\u001b[39m{\u001b[39;00mname\u001b[39m}\u001b[39;00m\u001b[39m rows must sum to 1 (got \u001b[39m\u001b[39m{\u001b[39;00ms\u001b[39m}\u001b[39;00m\u001b[39m)\u001b[39m\u001b[39m\"\u001b[39m \u001b[39mif\u001b[39;00m s\u001b[39m.\u001b[39mndim \u001b[39m==\u001b[39m \u001b[39m1\u001b[39m \u001b[39melse\u001b[39;00m\n\u001b[1;32m    934\u001b[0m         \u001b[39m\"\u001b[39m\u001b[39mExpected 1D or 2D array\u001b[39m\u001b[39m\"\u001b[39m)\n",
      "\u001b[0;31mValueError\u001b[0m: startprob_ must sum to 1 (got nan)"
     ]
    }
   ],
   "source": [
    "# Generate new sequences with the same lengths as the sequences in the test data\n",
    "new_sequences = [model.sample(len(seq))[1] for seq in sequences_test]\n",
    "\n",
    "# Calculate the lengths of the new sequences\n",
    "new_lengths = [len(seq) for seq in new_sequences]\n",
    "\n",
    "# Calculate the lengths of the sequences in the test data\n",
    "test_lengths = [len(seq) for seq in sequences_test]\n",
    "\n",
    "# Calculate the difference between the new lengths and the test lengths\n",
    "length_difference = np.array(new_lengths) - np.array(test_lengths)\n",
    "\n",
    "print(length_difference)\n"
   ]
  },
  {
   "cell_type": "markdown",
   "metadata": {},
   "source": [
    "## Pomegranate"
   ]
  },
  {
   "cell_type": "code",
   "execution_count": 9,
   "metadata": {},
   "outputs": [
    {
     "ename": "NameError",
     "evalue": "name 'sequences' is not defined",
     "output_type": "error",
     "traceback": [
      "\u001b[0;31m---------------------------------------------------------------------------\u001b[0m",
      "\u001b[0;31mNameError\u001b[0m                                 Traceback (most recent call last)",
      "\u001b[1;32m/Users/marcofking/Documents/GitHub/MockVsActualHospitalCare/code/HMM_surface_predictions.ipynb Cell 11\u001b[0m in \u001b[0;36m<cell line: 1>\u001b[0;34m()\u001b[0m\n\u001b[0;32m----> <a href='vscode-notebook-cell:/Users/marcofking/Documents/GitHub/MockVsActualHospitalCare/code/HMM_surface_predictions.ipynb#X13sZmlsZQ%3D%3D?line=0'>1</a>\u001b[0m sequences\u001b[39m.\u001b[39mvalues\n",
      "\u001b[0;31mNameError\u001b[0m: name 'sequences' is not defined"
     ]
    }
   ],
   "source": [
    "sequences.values"
   ]
  },
  {
   "cell_type": "code",
   "execution_count": 16,
   "metadata": {},
   "outputs": [
    {
     "ename": "ImportError",
     "evalue": "cannot import name 'HiddenMarkovModel' from 'pomegranate' (/opt/homebrew/Caskroom/miniforge/base/envs/tensorflow/lib/python3.9/site-packages/pomegranate/__init__.py)",
     "output_type": "error",
     "traceback": [
      "\u001b[0;31m---------------------------------------------------------------------------\u001b[0m",
      "\u001b[0;31mImportError\u001b[0m                               Traceback (most recent call last)",
      "\u001b[1;32m/Users/marcofking/Documents/GitHub/MockVsActualHospitalCare/code/HMM_surface_predictions.ipynb Cell 12\u001b[0m in \u001b[0;36m<cell line: 1>\u001b[0;34m()\u001b[0m\n\u001b[0;32m----> <a href='vscode-notebook-cell:/Users/marcofking/Documents/GitHub/MockVsActualHospitalCare/code/HMM_surface_predictions.ipynb#X14sZmlsZQ%3D%3D?line=0'>1</a>\u001b[0m \u001b[39mfrom\u001b[39;00m \u001b[39mpomegranate\u001b[39;00m \u001b[39mimport\u001b[39;00m HiddenMarkovModel, DiscreteDistribution\n\u001b[1;32m      <a href='vscode-notebook-cell:/Users/marcofking/Documents/GitHub/MockVsActualHospitalCare/code/HMM_surface_predictions.ipynb#X14sZmlsZQ%3D%3D?line=1'>2</a>\u001b[0m \u001b[39mimport\u001b[39;00m \u001b[39mnumpy\u001b[39;00m \u001b[39mas\u001b[39;00m \u001b[39mnp\u001b[39;00m\n\u001b[1;32m      <a href='vscode-notebook-cell:/Users/marcofking/Documents/GitHub/MockVsActualHospitalCare/code/HMM_surface_predictions.ipynb#X14sZmlsZQ%3D%3D?line=2'>3</a>\u001b[0m \u001b[39mfrom\u001b[39;00m \u001b[39msklearn\u001b[39;00m\u001b[39m.\u001b[39;00m\u001b[39mmodel_selection\u001b[39;00m \u001b[39mimport\u001b[39;00m train_test_split\n",
      "\u001b[0;31mImportError\u001b[0m: cannot import name 'HiddenMarkovModel' from 'pomegranate' (/opt/homebrew/Caskroom/miniforge/base/envs/tensorflow/lib/python3.9/site-packages/pomegranate/__init__.py)"
     ]
    }
   ],
   "source": [
    "from pomegranate import HiddenMarkovModel, DiscreteDistribution\n",
    "import numpy as np\n",
    "from sklearn.model_selection import train_test_split\n",
    "from sklearn.preprocessing import LabelEncoder\n",
    "\n",
    "# Fit a LabelEncoder for the sequences and hidden states\n",
    "sequence_encoder = LabelEncoder()\n",
    "sequence_encoder.fit(np.hstack(sequences.values))\n",
    "\n",
    "hidden_state_encoder = LabelEncoder()\n",
    "hidden_state_encoder.fit(np.hstack(hidden_states.values))\n",
    "\n",
    "# Transform the sequences and hidden states to integers\n",
    "sequences = sequences.apply(sequence_encoder.transform)\n",
    "hidden_states = hidden_states.apply(hidden_state_encoder.transform)\n",
    "\n",
    "# Split the sequences into a training set and a test set\n",
    "sequences_train, sequences_test, hidden_states_train, hidden_states_test = train_test_split(\n",
    "    sequences, hidden_states, test_size=0.1, random_state=42)\n",
    "\n",
    "sequences_train = sequences_train.tolist()\n",
    "hidden_states_train = hidden_states_train.tolist()\n",
    "\n",
    "# Prepare the data for the HMM\n",
    "X = np.concatenate(sequences_train).reshape(-1, 1)\n",
    "lengths = list(map(len, sequences_train))\n",
    "\n",
    "# Create and train a Multivariate HMM\n",
    "model = HiddenMarkovModel.from_samples(DiscreteDistribution, \n",
    "                                       n_components=len(hidden_state_encoder.classes_), \n",
    "                                       X=X, \n",
    "                                       labels=hidden_states_train, \n",
    "                                       algorithm='baum-welch', \n",
    "                                       verbose=False,\n",
    "                                       state_names=hidden_state_encoder.classes_.tolist(),\n",
    "                                       n_jobs=-1)\n",
    "\n",
    "# Now you can predict a new sequence\n",
    "new_sequence = model.sample(length=10)  # Change 10 to the desired sequence length\n",
    "\n",
    "# The new sequence is an array of integers, so we use the inverse_transform method to convert it back to surface names\n",
    "new_sequence_surfaces = sequence_encoder.inverse_transform(new_sequence)\n",
    "\n",
    "print(new_sequence_surfaces)\n"
   ]
  },
  {
   "cell_type": "code",
   "execution_count": 4,
   "metadata": {},
   "outputs": [
    {
     "name": "stdout",
     "output_type": "stream",
     "text": [
      "['/Users/marcofking/Documents/GitHub/MockVsActualHospitalCare/code', '/opt/homebrew/Caskroom/miniforge/base/envs/tensorflow/lib/python39.zip', '/opt/homebrew/Caskroom/miniforge/base/envs/tensorflow/lib/python3.9', '/opt/homebrew/Caskroom/miniforge/base/envs/tensorflow/lib/python3.9/lib-dynload', '', '/opt/homebrew/Caskroom/miniforge/base/envs/tensorflow/lib/python3.9/site-packages']\n"
     ]
    }
   ],
   "source": [
    "import sys\n",
    "print(sys.path)\n"
   ]
  }
 ],
 "metadata": {
  "kernelspec": {
   "display_name": "Python 3.9 (tensorflow)",
   "language": "python",
   "name": "tensorflow"
  },
  "language_info": {
   "codemirror_mode": {
    "name": "ipython",
    "version": 3
   },
   "file_extension": ".py",
   "mimetype": "text/x-python",
   "name": "python",
   "nbconvert_exporter": "python",
   "pygments_lexer": "ipython3",
   "version": "3.9.12"
  },
  "orig_nbformat": 4
 },
 "nbformat": 4,
 "nbformat_minor": 2
}
